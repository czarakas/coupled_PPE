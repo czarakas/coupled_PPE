{
 "cells": [
  {
   "cell_type": "code",
   "execution_count": 1,
   "id": "4ee4a4d7-d35c-4d56-97d8-cb7044a11c25",
   "metadata": {},
   "outputs": [
    {
     "ename": "ModuleNotFoundError",
     "evalue": "No module named 'esem'",
     "output_type": "error",
     "traceback": [
      "\u001b[0;31m---------------------------------------------------------------------------\u001b[0m",
      "\u001b[0;31mModuleNotFoundError\u001b[0m                       Traceback (most recent call last)",
      "Input \u001b[0;32mIn [1]\u001b[0m, in \u001b[0;36m<cell line: 1>\u001b[0;34m()\u001b[0m\n\u001b[0;32m----> 1\u001b[0m \u001b[38;5;28;01mfrom\u001b[39;00m \u001b[38;5;21;01mesem\u001b[39;00m \u001b[38;5;28;01mimport\u001b[39;00m gp_model\n",
      "\u001b[0;31mModuleNotFoundError\u001b[0m: No module named 'esem'"
     ]
    }
   ],
   "source": [
    "from esem import gp_model"
   ]
  },
  {
   "cell_type": "code",
   "execution_count": null,
   "id": "20011696-f474-44e9-8fef-60c6e76e195d",
   "metadata": {},
   "outputs": [],
   "source": []
  }
 ],
 "metadata": {
  "kernelspec": {
   "display_name": "NPL (conda)",
   "language": "python",
   "name": "npl-conda"
  },
  "language_info": {
   "codemirror_mode": {
    "name": "ipython",
    "version": 3
   },
   "file_extension": ".py",
   "mimetype": "text/x-python",
   "name": "python",
   "nbconvert_exporter": "python",
   "pygments_lexer": "ipython3",
   "version": "3.8.13"
  }
 },
 "nbformat": 4,
 "nbformat_minor": 5
}
