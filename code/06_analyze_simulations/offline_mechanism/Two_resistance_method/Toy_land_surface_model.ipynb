{
 "cells": [
  {
   "cell_type": "code",
   "execution_count": null,
   "id": "2fe97952-e5f5-4779-9587-856d8ec7d0bb",
   "metadata": {},
   "outputs": [],
   "source": [
    "SWdown=700\n",
    "LWdown=5\n",
    "Tbot=273.15+20\n",
    "qbot"
   ]
  }
 ],
 "metadata": {
  "kernelspec": {
   "display_name": "",
   "name": ""
  },
  "language_info": {
   "name": ""
  }
 },
 "nbformat": 4,
 "nbformat_minor": 5
}
