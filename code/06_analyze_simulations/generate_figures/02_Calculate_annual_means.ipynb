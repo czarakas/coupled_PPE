{
 "cells": [
  {
   "cell_type": "markdown",
   "id": "5ddd0207-b2b3-4f30-be9f-27e33ffb3ff7",
   "metadata": {
    "tags": []
   },
   "source": [
    "# Set up workspace"
   ]
  },
  {
   "cell_type": "code",
   "execution_count": 5,
   "id": "48d49068-71f2-43f8-931a-92ee202f5005",
   "metadata": {},
   "outputs": [],
   "source": [
    "import xarray as xr\n",
    "import matplotlib.pyplot as plt\n",
    "import numpy as np\n",
    "import glob\n",
    "import pandas as pd\n",
    "from scipy.stats import ttest_ind\n",
    "from cartopy.util import add_cyclic_point\n",
    "import cartopy.crs as ccrs\n",
    "#from eofs.xarray import Eof "
   ]
  },
  {
   "cell_type": "code",
   "execution_count": 6,
   "id": "2bb1c26b-ef2c-445f-a33d-44abf5bafd81",
   "metadata": {},
   "outputs": [],
   "source": [
    "import cftime\n",
    "import scipy"
   ]
  },
  {
   "cell_type": "code",
   "execution_count": 7,
   "id": "5083ebbb-3fbf-4e72-b5a4-2530d2809861",
   "metadata": {},
   "outputs": [],
   "source": [
    "import sys\n",
    "sys.path.append('/glade/u/home/czarakas/coupled_PPE/code/utils')\n",
    "\n",
    "import make_multisimulation_dataset"
   ]
  },
  {
   "cell_type": "code",
   "execution_count": 8,
   "id": "b4ca501d-5572-4fb4-b629-930a23667e34",
   "metadata": {},
   "outputs": [],
   "source": [
    "from load_ensembles import *\n",
    "import quick_map"
   ]
  },
  {
   "cell_type": "code",
   "execution_count": 9,
   "id": "2dba4f31-421d-4ad4-910a-a84a6f0cc3c1",
   "metadata": {},
   "outputs": [],
   "source": [
    "path_in='/glade/work/czarakas/coupled_PPE/data/data_for_figures/timeseries/'\n",
    "path_out='/glade/work/czarakas/coupled_PPE/data/data_for_figures/annual_means/'"
   ]
  },
  {
   "cell_type": "markdown",
   "id": "50cc822f-b8e5-407c-8650-86c0b7c38402",
   "metadata": {
    "tags": []
   },
   "source": [
    "# Load data"
   ]
  },
  {
   "cell_type": "markdown",
   "id": "872dd686-ea62-4d30-9547-1cc85b1b2581",
   "metadata": {
    "tags": []
   },
   "source": [
    "### Define variables to load"
   ]
  },
  {
   "cell_type": "code",
   "execution_count": 10,
   "id": "fe32b15c-17f4-4c8d-bbac-8da82e84f952",
   "metadata": {},
   "outputs": [],
   "source": [
    "var='TSKIN'#'calculated_PREC_FROM_ATM'#'TSKIN'\n",
    "domain='lnd'\n",
    "ensemble='offline'\n",
    "season='Annual'"
   ]
  },
  {
   "cell_type": "code",
   "execution_count": 11,
   "id": "4800a335-c08c-4fde-b029-95173049feb7",
   "metadata": {},
   "outputs": [],
   "source": [
    "end_spinup=40"
   ]
  },
  {
   "cell_type": "markdown",
   "id": "6f0a33f9-30e2-42a4-8b0c-24870ad9d904",
   "metadata": {
    "tags": []
   },
   "source": [
    "### Load full ensemble data"
   ]
  },
  {
   "cell_type": "code",
   "execution_count": 12,
   "id": "d97d0509-e366-46fe-9dfc-40641f54e542",
   "metadata": {},
   "outputs": [],
   "source": [
    "var_array_withspinup=xr.open_dataset(path_in+var+'_timeseries_'+ensemble+'.nc')"
   ]
  },
  {
   "cell_type": "code",
   "execution_count": 13,
   "id": "778df2a2-b9b1-4d45-a79f-b228321fe103",
   "metadata": {},
   "outputs": [],
   "source": [
    "var_array=var_array_withspinup[var][end_spinup*12:,:,:,:]"
   ]
  },
  {
   "cell_type": "markdown",
   "id": "4a66f169-7867-4874-8e2e-aa13e75807b2",
   "metadata": {
    "tags": []
   },
   "source": [
    "### Define function for calculating annual averages based on days per year"
   ]
  },
  {
   "cell_type": "code",
   "execution_count": 14,
   "id": "c2ec2dee-1751-40d9-bc09-cb09b46fe7de",
   "metadata": {},
   "outputs": [],
   "source": [
    "dpm = {'noleap': [0, 31, 28, 31, 30, 31, 30, 31, 31, 30, 31, 30, 31],\n",
    "       '365_day': [0, 31, 28, 31, 30, 31, 30, 31, 31, 30, 31, 30, 31],\n",
    "       'standard': [0, 31, 28, 31, 30, 31, 30, 31, 31, 30, 31, 30, 31],\n",
    "       'gregorian': [0, 31, 28, 31, 30, 31, 30, 31, 31, 30, 31, 30, 31],\n",
    "       'proleptic_gregorian': [0, 31, 28, 31, 30, 31, 30, 31, 31, 30, 31, 30, 31],\n",
    "       'all_leap': [0, 31, 29, 31, 30, 31, 30, 31, 31, 30, 31, 30, 31],\n",
    "       '366_day': [0, 31, 29, 31, 30, 31, 30, 31, 31, 30, 31, 30, 31],\n",
    "       '360_day': [0, 30, 30, 30, 30, 30, 30, 30, 30, 30, 30, 30, 30]}\n",
    "\n",
    "def get_dpm(time, calendar='standard'):\n",
    "    \"\"\"\n",
    "    return a array of days per month corresponding to the months provided in `months`\n",
    "    \"\"\"\n",
    "    month_length = np.zeros(len(time), dtype=np.int)\n",
    "\n",
    "    cal_days = dpm[calendar]\n",
    "\n",
    "    for i, (month, year) in enumerate(zip(time.month, time.year)):\n",
    "        month_length[i] = cal_days[month]\n",
    "    return month_length"
   ]
  },
  {
   "cell_type": "code",
   "execution_count": 15,
   "id": "c698cabb-a6d9-45d5-9df1-82a50e98f682",
   "metadata": {},
   "outputs": [],
   "source": [
    "if ensemble=='offline':\n",
    "    ensemble_path='offline_simulations'\n",
    "    refcase_id='OFFL0000_PI_v02'\n",
    "elif ensemble=='coupled':\n",
    "    ensemble_path='coupled_simulations'\n",
    "    refcase_id='COUP0000_PI_SOM'\n",
    "if domain=='atm':\n",
    "    domain_suffix='.cam.h0.'\n",
    "elif domain=='lnd':\n",
    "    domain_suffix='.clm2.h0.'\n",
    "    \n",
    "basecase_lnd=xr.open_dataset('/glade/campaign/cgd/tss/czarakas/CoupledPPE/'+ensemble_path+'/'+\n",
    "                                 refcase_id+'/'+domain+'/proc/tseries/'+refcase_id+domain_suffix+'timeseries.'+var+'.nc')"
   ]
  },
  {
   "cell_type": "code",
   "execution_count": 16,
   "id": "634a1f76-3cf1-4656-8aa6-9e5150cac4b2",
   "metadata": {
    "tags": []
   },
   "outputs": [],
   "source": [
    "ds=basecase_lnd\n",
    "month_length = xr.DataArray(get_dpm(ds.time.to_index(),\n",
    "                                      calendar='noleap'),\n",
    "                              coords=[ds.time], name='month_length')\n",
    "\n",
    "numyears=np.size(ds.time.groupby('time.year').mean(dim='time').year)"
   ]
  },
  {
   "cell_type": "code",
   "execution_count": 17,
   "id": "38106f18-002c-4206-95c5-94f1b688267f",
   "metadata": {
    "tags": []
   },
   "outputs": [],
   "source": [
    "# Calculate the weights by grouping by 'time.season'.\n",
    "# Conversion to float type ('astype(float)') only necessary for Python 2.x\n",
    "weights = month_length.groupby('time.year') / month_length.astype(float).groupby('time.year').sum()\n",
    "\n",
    "# Test that the sum of the weights for each season is 1.0\n",
    "#weights.groupby('time.month').sum().values\n",
    "np.testing.assert_allclose(weights.groupby('time.year').sum().values, np.ones(numyears))\n",
    "\n",
    "# Calculate the weighted average\n",
    "ds_weighted = (ds[var] * weights).groupby('time.year').sum(dim='time')"
   ]
  },
  {
   "cell_type": "code",
   "execution_count": 18,
   "id": "d8f88c29-d06e-45e4-a896-655856e18c58",
   "metadata": {},
   "outputs": [],
   "source": [
    "def calculate_annual_timeseries(da, season='Annual',\n",
    "                               end_spinup=0):\n",
    "    month_length = xr.DataArray(get_dpm(ds.time.to_index(),\n",
    "                                      calendar='noleap'),\n",
    "                              coords=[ds.time], name='month_length')\n",
    "    \n",
    "    numyears=np.size(ds.time.groupby('time.year').mean(dim='time'))\n",
    "    \n",
    "    if season=='Annual':\n",
    "        weights = month_length.groupby('time.year') / month_length.astype(float).groupby('time.year').sum()\n",
    "        \n",
    "        # Test that the sum of the weights for each year is 1.0\n",
    "        np.testing.assert_allclose(weights.groupby('time.year').sum().values, np.ones(numyears))\n",
    "    \n",
    "        # Calculate the weighted average\n",
    "        da_weighted = (da * weights).groupby('time.year').sum(dim='time')\n",
    "        \n",
    "        this_ensemble_tseries=da_weighted[end_spinup:,:,:]\n",
    "    else:\n",
    "        months_filtered = month_length.where(month_length['time.season']==season)\n",
    "        weights = months_filtered.groupby('time.year') / months_filtered.astype(float).groupby('time.year').sum()\n",
    "        \n",
    "        # Test that the sum of the weights for each season is 1.0\n",
    "        np.testing.assert_allclose(weights.groupby('time.year').sum().values, np.ones(numyears))\n",
    "        \n",
    "        da_weighted = (da * weights).groupby('time.year').sum(dim='time')\n",
    "        this_ensemble_tseries=da_weighted[end_spinup:,:,:]\n",
    "        \n",
    "    return this_ensemble_tseries\n",
    "    "
   ]
  },
  {
   "cell_type": "markdown",
   "id": "b347bd0d-8bbe-4d28-b137-21964ed02dae",
   "metadata": {},
   "source": [
    "# Do calculations"
   ]
  },
  {
   "cell_type": "code",
   "execution_count": 19,
   "id": "ac3e3b1d-83e2-4aff-b910-8c05c8cad5fa",
   "metadata": {},
   "outputs": [],
   "source": [
    "var_ref_annual=calculate_annual_timeseries(basecase_lnd[var][end_spinup*12:,:,:],season=season)\n",
    "var_ref_mean=var_ref_annual.mean(dim='year')\n",
    "ds_ref=var_ref_mean.to_dataset(name=var)"
   ]
  },
  {
   "cell_type": "code",
   "execution_count": 20,
   "id": "106a75df-20c6-47dc-909d-149f29b10d92",
   "metadata": {
    "tags": []
   },
   "outputs": [],
   "source": [
    "var_array_annual=calculate_annual_timeseries(var_array,season=season)\n",
    "var_array_mean=var_array_annual.mean(dim='year')\n",
    "ds_mean=var_array_mean.to_dataset(name=var)"
   ]
  },
  {
   "cell_type": "code",
   "execution_count": 21,
   "id": "1190d02c-1b11-4720-856e-15ae6e4b780d",
   "metadata": {},
   "outputs": [],
   "source": [
    "var_array_delta=var_array_mean-var_ref_mean\n",
    "ds_delta=var_array_delta.to_dataset(name=var)"
   ]
  },
  {
   "cell_type": "markdown",
   "id": "fb910b21-b8b0-42d9-a7bb-87d3c6e3bf98",
   "metadata": {},
   "source": [
    "# Save summary stats"
   ]
  },
  {
   "cell_type": "code",
   "execution_count": null,
   "id": "4f47cbae-5d6f-4e9c-9f8b-7bb6cf6847c7",
   "metadata": {
    "tags": []
   },
   "outputs": [],
   "source": [
    "fname=var+'_'+season+'_mean_'+ensemble+'.nc'\n",
    "ds_mean.to_netcdf(path_out+fname)\n",
    "\n",
    "fname='ref_'+var+'_'+season+'_mean_'+ensemble+'.nc'\n",
    "ds_ref.to_netcdf(path_out+fname)\n",
    "\n",
    "fname='delta_'+var+'_'+season+'_mean_'+ensemble+'.nc'\n",
    "ds_delta.to_netcdf(path_out+fname)"
   ]
  },
  {
   "cell_type": "markdown",
   "id": "14f7e5fd-6fc1-4f58-8ba6-fb315d806bf9",
   "metadata": {
    "tags": []
   },
   "source": [
    "# Calculate where changes are significant"
   ]
  },
  {
   "cell_type": "code",
   "execution_count": 22,
   "id": "33e828e8-46a2-4007-a443-71112c5281bb",
   "metadata": {},
   "outputs": [
    {
     "name": "stderr",
     "output_type": "stream",
     "text": [
      "/glade/u/home/czarakas/.conda/envs/EOF_env/lib/python3.7/site-packages/xarray/core/nanops.py:142: RuntimeWarning: Mean of empty slice\n",
      "  return np.nanmean(a, axis=axis, dtype=dtype)\n"
     ]
    }
   ],
   "source": [
    "ds_grid = basecase_lnd\n",
    "\n",
    "var_array_ttest = make_multisimulation_dataset.make_empty_dataarray(ds_grid=ds_grid, var=var, keys=keys)\n",
    "var_array_pval = make_multisimulation_dataset.make_empty_dataarray(ds_grid=ds_grid, var=var, keys=keys)"
   ]
  },
  {
   "cell_type": "code",
   "execution_count": 23,
   "id": "190c5efa-8eb7-4166-a2ab-129747cb083c",
   "metadata": {
    "tags": []
   },
   "outputs": [
    {
     "name": "stderr",
     "output_type": "stream",
     "text": [
      "/glade/u/home/czarakas/.conda/envs/EOF_env/lib/python3.7/site-packages/scipy/stats/_distn_infrastructure.py:903: RuntimeWarning: invalid value encountered in greater\n",
      "  return (a < x) & (x < b)\n",
      "/glade/u/home/czarakas/.conda/envs/EOF_env/lib/python3.7/site-packages/scipy/stats/_distn_infrastructure.py:903: RuntimeWarning: invalid value encountered in less\n",
      "  return (a < x) & (x < b)\n",
      "/glade/u/home/czarakas/.conda/envs/EOF_env/lib/python3.7/site-packages/scipy/stats/_distn_infrastructure.py:1912: RuntimeWarning: invalid value encountered in less_equal\n",
      "  cond2 = cond0 & (x <= _a)\n"
     ]
    }
   ],
   "source": [
    "for i, key in enumerate(var_array.ensemble_key):\n",
    "    ds_annual=var_array_annual[:,:,:,i]\n",
    "    [tstat, pval] = scipy.stats.ttest_ind(var_ref_annual, ds_annual, equal_var=False)#, alternative='two-sided')\n",
    "    var_array_ttest[:,:,i]=tstat\n",
    "    var_array_pval[:,:,i]=pval"
   ]
  },
  {
   "cell_type": "code",
   "execution_count": 24,
   "id": "fc555b78-6185-4c28-8676-da4798993b5d",
   "metadata": {},
   "outputs": [],
   "source": [
    "ds_pval=var_array_pval.to_dataset(name='pval')\n",
    "\n",
    "fname='pval_'+var+'_'+season+'_mean_'+ensemble+'.nc'\n",
    "ds_pval.to_netcdf(path_out+fname)"
   ]
  },
  {
   "cell_type": "code",
   "execution_count": null,
   "id": "88772b78-145b-4d8f-b1a0-193409781498",
   "metadata": {},
   "outputs": [],
   "source": []
  }
 ],
 "metadata": {
  "kernelspec": {
   "display_name": "Python [conda env:.conda-EOF_env]",
   "language": "python",
   "name": "conda-env-.conda-EOF_env-py"
  },
  "language_info": {
   "codemirror_mode": {
    "name": "ipython",
    "version": 3
   },
   "file_extension": ".py",
   "mimetype": "text/x-python",
   "name": "python",
   "nbconvert_exporter": "python",
   "pygments_lexer": "ipython3",
   "version": "3.7.2"
  }
 },
 "nbformat": 4,
 "nbformat_minor": 5
}
