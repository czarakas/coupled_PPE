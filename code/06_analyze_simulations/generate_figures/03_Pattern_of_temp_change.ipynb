{
 "cells": [
  {
   "cell_type": "code",
   "execution_count": 2,
   "id": "07c79c72-f1fb-4d81-8b70-4c21cc90c3c1",
   "metadata": {},
   "outputs": [],
   "source": [
    "import xarray as xr\n",
    "import matplotlib.pyplot as plt\n",
    "import numpy as np\n",
    "import glob\n",
    "import pandas as pd\n",
    "from scipy.stats import ttest_ind\n",
    "from cartopy.util import add_cyclic_point\n",
    "import cartopy.crs as ccrs"
   ]
  },
  {
   "cell_type": "code",
   "execution_count": 3,
   "id": "85593489-9765-4a7a-b230-75e652591230",
   "metadata": {},
   "outputs": [],
   "source": [
    "import cftime\n",
    "import scipy"
   ]
  },
  {
   "cell_type": "code",
   "execution_count": 4,
   "id": "4840d02f-0245-4a46-9cea-3a71f300c4a6",
   "metadata": {},
   "outputs": [],
   "source": [
    "import sys\n",
    "sys.path.append('/glade/u/home/czarakas/coupled_PPE/code/utils')"
   ]
  },
  {
   "cell_type": "code",
   "execution_count": 5,
   "id": "aa402c6a-0cb5-49df-9866-8611738fdd7a",
   "metadata": {},
   "outputs": [],
   "source": [
    "from load_gridcell_areas import *"
   ]
  },
  {
   "cell_type": "code",
   "execution_count": 6,
   "id": "f9295ae0-269c-47ba-af45-33e932866e20",
   "metadata": {},
   "outputs": [],
   "source": [
    "T_1xCO2=xr.open_dataset('/glade/work/czarakas/disentangling_lai_effects/postprocessed_model_output/coupled_DEFmedslope_1xCO2_all/'+\n",
    "                        'coupled_DEFmedslope_1xCO2_all.cam.h0.timeseries.TS.nc')\n",
    "T_2xCO2=xr.open_dataset('/glade/work/czarakas/disentangling_lai_effects/postprocessed_model_output/'+\n",
    "                        'coupled_DEFmedslope_2xCO2_FULL_03/'+\n",
    "                        'coupled_DEFmedslope_2xCO2_FULL_03.cam.h0.timeseries.TS.nc')"
   ]
  },
  {
   "cell_type": "code",
   "execution_count": 7,
   "id": "1d87c3ee-fbfa-4aa9-ac23-167196ed8393",
   "metadata": {},
   "outputs": [
    {
     "data": {
      "text/plain": [
       "120.0"
      ]
     },
     "execution_count": 7,
     "metadata": {},
     "output_type": "execute_result"
    }
   ],
   "source": [
    "1440/12"
   ]
  },
  {
   "cell_type": "code",
   "execution_count": 8,
   "id": "6606677d-88ca-4c41-b2de-cc2e1535e98c",
   "metadata": {},
   "outputs": [],
   "source": [
    "CO2_1x=T_1xCO2.TS[60*12:1440,:,:].mean(dim='time')\n",
    "CO2_2x=T_2xCO2.TS[60*12:1440,:,:].mean(dim='time')"
   ]
  },
  {
   "cell_type": "code",
   "execution_count": 16,
   "id": "662883f7-7e89-407d-a639-fe628e6f5562",
   "metadata": {},
   "outputs": [],
   "source": [
    "delta_T=CO2_2x-CO2_1x\n",
    "delta_T=delta_T.reindex_like(landweights2, method='nearest',tolerance=0.05)\n",
    "#CO2x2_warming_factor_1degreeglobal=1/(delta_T*landweights).mean(dim=['lat','lon'])"
   ]
  },
  {
   "cell_type": "code",
   "execution_count": 15,
   "id": "b1c6a60d-ecb8-45ca-b818-483ac5322607",
   "metadata": {},
   "outputs": [
    {
     "data": {
      "text/plain": [
       "<xarray.DataArray ()>\n",
       "array(5.18295998)"
      ]
     },
     "execution_count": 15,
     "metadata": {},
     "output_type": "execute_result"
    }
   ],
   "source": [
    "(delta_T*weight_factor_atm).mean(dim=['lat','lon'])"
   ]
  },
  {
   "cell_type": "code",
   "execution_count": 17,
   "id": "d43d653f-8b62-4bd4-bc42-fc61d0fb7263",
   "metadata": {},
   "outputs": [
    {
     "data": {
      "text/plain": [
       "<xarray.DataArray ()>\n",
       "array(6.5112133, dtype=float32)"
      ]
     },
     "execution_count": 17,
     "metadata": {},
     "output_type": "execute_result"
    }
   ],
   "source": [
    "(delta_T*landweights2).sum(dim=['lat','lon'])"
   ]
  },
  {
   "cell_type": "code",
   "execution_count": 15,
   "id": "f45623ec-0342-4f5c-b0f1-2de50d300ebb",
   "metadata": {},
   "outputs": [],
   "source": [
    "fpath_out='/glade/work/czarakas/coupled_PPE/data/data_for_figures/response_to_CO2/'\n",
    "ds_TS=delta_T.to_dataset(name='TS')\n",
    "fname='Reponse_2xCO2_AnnualMean_Full.nc'\n",
    "ds_TS.to_netcdf(fpath_out+fname)"
   ]
  },
  {
   "cell_type": "markdown",
   "id": "73c2da85-cee6-4fdd-8a49-c489169bec4c",
   "metadata": {},
   "source": [
    "# Other checks"
   ]
  },
  {
   "cell_type": "code",
   "execution_count": 48,
   "id": "ce95f4cb-e44a-4c27-8e6d-849a2fea426e",
   "metadata": {},
   "outputs": [],
   "source": [
    "#T_1xCO2=xr.open_dataset('/glade/campaign/cgd/tss/czarakas/StomatalSlope2021/possible_duplicate/'+\n",
    "#                        'coupled_DEFmedslope_1xCO2_all/lnd/proc/timeseries/coupled_DEFmedslope_1xCO2_all.clm2.h0.timeseries.TSKIN.nc')\n",
    "#T_2xCO2=xr.open_dataset('/glade/campaign/cgd/tss/czarakas/DisentanglingCO2Effects/'+\n",
    "#                        'coupled_DEFmedslope_2xCO2_FULL_03/lnd/proc/timeseries/coupled_DEFmedslope_2xCO2_FULL_03.clm2.h0.timeseries.TSKIN.nc')\n",
    "#T_2xCO2=xr.open_dataset('/glade/campaign/cgd/tss/czarakas/StomatalSlope2021/possible_duplicate/'+\n",
    "#                        'coupled_DEFmedslope_2xCO2_all/lnd/proc/timeseries/coupled_DEFmedslope_1xCO2_all.clm2.h0.timeseries.TSKIN.nc')"
   ]
  },
  {
   "cell_type": "code",
   "execution_count": 4,
   "id": "5126e68a-dd28-4feb-a6e9-a40033e07d0a",
   "metadata": {},
   "outputs": [
    {
     "ename": "NameError",
     "evalue": "name 'ds_h0' is not defined",
     "output_type": "error",
     "traceback": [
      "\u001b[0;31m---------------------------------------------------------------------------\u001b[0m",
      "\u001b[0;31mNameError\u001b[0m                                 Traceback (most recent call last)",
      "\u001b[0;32m<ipython-input-4-922ee8e373cb>\u001b[0m in \u001b[0;36m<module>\u001b[0;34m\u001b[0m\n\u001b[0;32m----> 1\u001b[0;31m \u001b[0mweight_factor\u001b[0m \u001b[0;34m=\u001b[0m \u001b[0mds_h0\u001b[0m\u001b[0;34m.\u001b[0m\u001b[0mgw\u001b[0m \u001b[0;34m/\u001b[0m \u001b[0mds_h0\u001b[0m\u001b[0;34m.\u001b[0m\u001b[0mgw\u001b[0m\u001b[0;34m.\u001b[0m\u001b[0mmean\u001b[0m\u001b[0;34m(\u001b[0m\u001b[0mdim\u001b[0m\u001b[0;34m=\u001b[0m\u001b[0;34m'lat'\u001b[0m\u001b[0;34m)\u001b[0m\u001b[0;34m\u001b[0m\u001b[0;34m\u001b[0m\u001b[0m\n\u001b[0m",
      "\u001b[0;31mNameError\u001b[0m: name 'ds_h0' is not defined"
     ]
    }
   ],
   "source": [
    "weight_factor = ds_h0.gw / ds_h0.gw.mean(dim='lat')"
   ]
  },
  {
   "cell_type": "code",
   "execution_count": 6,
   "id": "c0a6449d-09be-400e-923a-bb15f9328fc4",
   "metadata": {
    "tags": []
   },
   "outputs": [
    {
     "ename": "NameError",
     "evalue": "name 'T_2xCO2' is not defined",
     "output_type": "error",
     "traceback": [
      "\u001b[0;31m---------------------------------------------------------------------------\u001b[0m",
      "\u001b[0;31mNameError\u001b[0m                                 Traceback (most recent call last)",
      "\u001b[0;32m<ipython-input-6-9561dede9314>\u001b[0m in \u001b[0;36m<module>\u001b[0;34m\u001b[0m\n\u001b[0;32m----> 1\u001b[0;31m \u001b[0mtseries\u001b[0m\u001b[0;34m=\u001b[0m\u001b[0;34m(\u001b[0m\u001b[0;34m(\u001b[0m\u001b[0mT_2xCO2\u001b[0m\u001b[0;34m.\u001b[0m\u001b[0mTS\u001b[0m\u001b[0;34m.\u001b[0m\u001b[0mreindex_like\u001b[0m\u001b[0;34m(\u001b[0m\u001b[0mlandweights\u001b[0m\u001b[0;34m,\u001b[0m \u001b[0mmethod\u001b[0m\u001b[0;34m=\u001b[0m\u001b[0;34m'nearest'\u001b[0m\u001b[0;34m,\u001b[0m\u001b[0mtolerance\u001b[0m\u001b[0;34m=\u001b[0m\u001b[0;36m0.05\u001b[0m\u001b[0;34m)\u001b[0m\u001b[0;34m*\u001b[0m\u001b[0mlandweights\u001b[0m\u001b[0;34m)\u001b[0m\u001b[0;34m.\u001b[0m\u001b[0mgroupby\u001b[0m\u001b[0;34m(\u001b[0m\u001b[0;34m'time.year'\u001b[0m\u001b[0;34m)\u001b[0m\u001b[0;34m.\u001b[0m\u001b[0mmean\u001b[0m\u001b[0;34m(\u001b[0m\u001b[0;34m)\u001b[0m\u001b[0;34m*\u001b[0m\u001b[0mlandweights\u001b[0m\u001b[0;34m)\u001b[0m\u001b[0;34m.\u001b[0m\u001b[0mmean\u001b[0m\u001b[0;34m(\u001b[0m\u001b[0mdim\u001b[0m\u001b[0;34m=\u001b[0m\u001b[0;34m[\u001b[0m\u001b[0;34m'lat'\u001b[0m\u001b[0;34m,\u001b[0m\u001b[0;34m'lon'\u001b[0m\u001b[0;34m]\u001b[0m\u001b[0;34m)\u001b[0m\u001b[0;34m\u001b[0m\u001b[0;34m\u001b[0m\u001b[0m\n\u001b[0m\u001b[1;32m      2\u001b[0m \u001b[0mtseries1\u001b[0m\u001b[0;34m=\u001b[0m\u001b[0;34m(\u001b[0m\u001b[0;34m(\u001b[0m\u001b[0mT_1xCO2\u001b[0m\u001b[0;34m.\u001b[0m\u001b[0mTS\u001b[0m\u001b[0;34m.\u001b[0m\u001b[0mreindex_like\u001b[0m\u001b[0;34m(\u001b[0m\u001b[0mlandweights\u001b[0m\u001b[0;34m,\u001b[0m \u001b[0mmethod\u001b[0m\u001b[0;34m=\u001b[0m\u001b[0;34m'nearest'\u001b[0m\u001b[0;34m,\u001b[0m\u001b[0mtolerance\u001b[0m\u001b[0;34m=\u001b[0m\u001b[0;36m0.05\u001b[0m\u001b[0;34m)\u001b[0m\u001b[0;34m*\u001b[0m\u001b[0mlandweights\u001b[0m\u001b[0;34m)\u001b[0m\u001b[0;34m.\u001b[0m\u001b[0mgroupby\u001b[0m\u001b[0;34m(\u001b[0m\u001b[0;34m'time.year'\u001b[0m\u001b[0;34m)\u001b[0m\u001b[0;34m.\u001b[0m\u001b[0mmean\u001b[0m\u001b[0;34m(\u001b[0m\u001b[0;34m)\u001b[0m\u001b[0;34m*\u001b[0m\u001b[0mlandweights\u001b[0m\u001b[0;34m)\u001b[0m\u001b[0;34m.\u001b[0m\u001b[0mmean\u001b[0m\u001b[0;34m(\u001b[0m\u001b[0mdim\u001b[0m\u001b[0;34m=\u001b[0m\u001b[0;34m[\u001b[0m\u001b[0;34m'lat'\u001b[0m\u001b[0;34m,\u001b[0m\u001b[0;34m'lon'\u001b[0m\u001b[0;34m]\u001b[0m\u001b[0;34m)\u001b[0m\u001b[0;34m\u001b[0m\u001b[0;34m\u001b[0m\u001b[0m\n",
      "\u001b[0;31mNameError\u001b[0m: name 'T_2xCO2' is not defined"
     ]
    }
   ],
   "source": [
    "tseries=((T_2xCO2.TS.reindex_like(landweights, method='nearest',tolerance=0.05)*landweights).groupby('time.year').mean()*landweights).mean(dim=['lat','lon'])\n",
    "tseries1=((T_1xCO2.TS.reindex_like(landweights, method='nearest',tolerance=0.05)*landweights).groupby('time.year').mean()*landweights).mean(dim=['lat','lon'])"
   ]
  },
  {
   "cell_type": "code",
   "execution_count": 7,
   "id": "64d805f8-cff1-4a42-8c36-5fd7bec84a14",
   "metadata": {},
   "outputs": [
    {
     "ename": "NameError",
     "evalue": "name 'tseries1' is not defined",
     "output_type": "error",
     "traceback": [
      "\u001b[0;31m---------------------------------------------------------------------------\u001b[0m",
      "\u001b[0;31mNameError\u001b[0m                                 Traceback (most recent call last)",
      "\u001b[0;32m<ipython-input-7-29154a6b835c>\u001b[0m in \u001b[0;36m<module>\u001b[0;34m\u001b[0m\n\u001b[0;32m----> 1\u001b[0;31m \u001b[0mplt\u001b[0m\u001b[0;34m.\u001b[0m\u001b[0mplot\u001b[0m\u001b[0;34m(\u001b[0m\u001b[0mtseries1\u001b[0m\u001b[0;34m,\u001b[0m\u001b[0;34m'.-k'\u001b[0m\u001b[0;34m)\u001b[0m\u001b[0;34m\u001b[0m\u001b[0;34m\u001b[0m\u001b[0m\n\u001b[0m\u001b[1;32m      2\u001b[0m \u001b[0mplt\u001b[0m\u001b[0;34m.\u001b[0m\u001b[0mplot\u001b[0m\u001b[0;34m(\u001b[0m\u001b[0mtseries\u001b[0m\u001b[0;34m,\u001b[0m\u001b[0;34m'.-'\u001b[0m\u001b[0;34m)\u001b[0m\u001b[0;34m\u001b[0m\u001b[0;34m\u001b[0m\u001b[0m\n\u001b[1;32m      3\u001b[0m \u001b[0;31m#plt.xlim([-10,100])\u001b[0m\u001b[0;34m\u001b[0m\u001b[0;34m\u001b[0m\u001b[0;34m\u001b[0m\u001b[0m\n",
      "\u001b[0;31mNameError\u001b[0m: name 'tseries1' is not defined"
     ]
    }
   ],
   "source": [
    "plt.plot(tseries1,'.-k')\n",
    "plt.plot(tseries,'.-')\n",
    "#plt.xlim([-10,100])"
   ]
  },
  {
   "cell_type": "code",
   "execution_count": 8,
   "id": "ec8d9df1-c11c-4fcf-a3e6-1c7d3dce3ec3",
   "metadata": {},
   "outputs": [
    {
     "ename": "NameError",
     "evalue": "name 'T_2xCO2' is not defined",
     "output_type": "error",
     "traceback": [
      "\u001b[0;31m---------------------------------------------------------------------------\u001b[0m",
      "\u001b[0;31mNameError\u001b[0m                                 Traceback (most recent call last)",
      "\u001b[0;32m<ipython-input-8-b1e350015632>\u001b[0m in \u001b[0;36m<module>\u001b[0;34m\u001b[0m\n\u001b[0;32m----> 1\u001b[0;31m \u001b[0mtseries\u001b[0m\u001b[0;34m=\u001b[0m\u001b[0;34m(\u001b[0m\u001b[0;34m(\u001b[0m\u001b[0mT_2xCO2\u001b[0m\u001b[0;34m.\u001b[0m\u001b[0mTS\u001b[0m\u001b[0;34m.\u001b[0m\u001b[0mreindex_like\u001b[0m\u001b[0;34m(\u001b[0m\u001b[0mlandweights\u001b[0m\u001b[0;34m,\u001b[0m \u001b[0mmethod\u001b[0m\u001b[0;34m=\u001b[0m\u001b[0;34m'nearest'\u001b[0m\u001b[0;34m,\u001b[0m\u001b[0mtolerance\u001b[0m\u001b[0;34m=\u001b[0m\u001b[0;36m0.05\u001b[0m\u001b[0;34m)\u001b[0m\u001b[0;34m*\u001b[0m\u001b[0mlandweights\u001b[0m\u001b[0;34m)\u001b[0m\u001b[0;34m*\u001b[0m\u001b[0mlandweights\u001b[0m\u001b[0;34m)\u001b[0m\u001b[0;34m.\u001b[0m\u001b[0mmean\u001b[0m\u001b[0;34m(\u001b[0m\u001b[0mdim\u001b[0m\u001b[0;34m=\u001b[0m\u001b[0;34m[\u001b[0m\u001b[0;34m'lat'\u001b[0m\u001b[0;34m,\u001b[0m\u001b[0;34m'lon'\u001b[0m\u001b[0;34m]\u001b[0m\u001b[0;34m)\u001b[0m\u001b[0;34m\u001b[0m\u001b[0;34m\u001b[0m\u001b[0m\n\u001b[0m\u001b[1;32m      2\u001b[0m \u001b[0mtseries1\u001b[0m\u001b[0;34m=\u001b[0m\u001b[0;34m(\u001b[0m\u001b[0;34m(\u001b[0m\u001b[0mT_1xCO2\u001b[0m\u001b[0;34m.\u001b[0m\u001b[0mTS\u001b[0m\u001b[0;34m.\u001b[0m\u001b[0mreindex_like\u001b[0m\u001b[0;34m(\u001b[0m\u001b[0mlandweights\u001b[0m\u001b[0;34m,\u001b[0m \u001b[0mmethod\u001b[0m\u001b[0;34m=\u001b[0m\u001b[0;34m'nearest'\u001b[0m\u001b[0;34m,\u001b[0m\u001b[0mtolerance\u001b[0m\u001b[0;34m=\u001b[0m\u001b[0;36m0.05\u001b[0m\u001b[0;34m)\u001b[0m\u001b[0;34m*\u001b[0m\u001b[0mlandweights\u001b[0m\u001b[0;34m)\u001b[0m\u001b[0;34m*\u001b[0m\u001b[0mlandweights\u001b[0m\u001b[0;34m)\u001b[0m\u001b[0;34m.\u001b[0m\u001b[0mmean\u001b[0m\u001b[0;34m(\u001b[0m\u001b[0mdim\u001b[0m\u001b[0;34m=\u001b[0m\u001b[0;34m[\u001b[0m\u001b[0;34m'lat'\u001b[0m\u001b[0;34m,\u001b[0m\u001b[0;34m'lon'\u001b[0m\u001b[0;34m]\u001b[0m\u001b[0;34m)\u001b[0m\u001b[0;34m\u001b[0m\u001b[0;34m\u001b[0m\u001b[0m\n",
      "\u001b[0;31mNameError\u001b[0m: name 'T_2xCO2' is not defined"
     ]
    }
   ],
   "source": [
    "tseries=((T_2xCO2.TS.reindex_like(landweights, method='nearest',tolerance=0.05)*landweights)*landweights).mean(dim=['lat','lon'])\n",
    "tseries1=((T_1xCO2.TS.reindex_like(landweights, method='nearest',tolerance=0.05)*landweights)*landweights).mean(dim=['lat','lon'])"
   ]
  },
  {
   "cell_type": "code",
   "execution_count": 9,
   "id": "f3294d77-1960-4ac3-b6f8-c1db427895fa",
   "metadata": {},
   "outputs": [
    {
     "ename": "NameError",
     "evalue": "name 'tseries1' is not defined",
     "output_type": "error",
     "traceback": [
      "\u001b[0;31m---------------------------------------------------------------------------\u001b[0m",
      "\u001b[0;31mNameError\u001b[0m                                 Traceback (most recent call last)",
      "\u001b[0;32m<ipython-input-9-e46d60fdbf91>\u001b[0m in \u001b[0;36m<module>\u001b[0;34m\u001b[0m\n\u001b[0;32m----> 1\u001b[0;31m \u001b[0mplt\u001b[0m\u001b[0;34m.\u001b[0m\u001b[0mplot\u001b[0m\u001b[0;34m(\u001b[0m\u001b[0mtseries1\u001b[0m\u001b[0;34m,\u001b[0m\u001b[0;34m'.-k'\u001b[0m\u001b[0;34m)\u001b[0m\u001b[0;34m\u001b[0m\u001b[0;34m\u001b[0m\u001b[0m\n\u001b[0m\u001b[1;32m      2\u001b[0m \u001b[0mplt\u001b[0m\u001b[0;34m.\u001b[0m\u001b[0mplot\u001b[0m\u001b[0;34m(\u001b[0m\u001b[0mtseries\u001b[0m\u001b[0;34m,\u001b[0m\u001b[0;34m'.-'\u001b[0m\u001b[0;34m)\u001b[0m\u001b[0;34m\u001b[0m\u001b[0;34m\u001b[0m\u001b[0m\n\u001b[1;32m      3\u001b[0m \u001b[0mplt\u001b[0m\u001b[0;34m.\u001b[0m\u001b[0mxlim\u001b[0m\u001b[0;34m(\u001b[0m\u001b[0;34m[\u001b[0m\u001b[0;34m-\u001b[0m\u001b[0;36m10\u001b[0m\u001b[0;34m,\u001b[0m\u001b[0;36m100\u001b[0m\u001b[0;34m]\u001b[0m\u001b[0;34m)\u001b[0m\u001b[0;34m\u001b[0m\u001b[0;34m\u001b[0m\u001b[0m\n",
      "\u001b[0;31mNameError\u001b[0m: name 'tseries1' is not defined"
     ]
    }
   ],
   "source": [
    "plt.plot(tseries1,'.-k')\n",
    "plt.plot(tseries,'.-')\n",
    "plt.xlim([-10,100])"
   ]
  },
  {
   "cell_type": "code",
   "execution_count": 12,
   "id": "c141832f-2ff8-4baa-a1ac-33aa8ee663a9",
   "metadata": {},
   "outputs": [
    {
     "ename": "NameError",
     "evalue": "name 'delta_T' is not defined",
     "output_type": "error",
     "traceback": [
      "\u001b[0;31m---------------------------------------------------------------------------\u001b[0m",
      "\u001b[0;31mNameError\u001b[0m                                 Traceback (most recent call last)",
      "\u001b[0;32m<ipython-input-12-94491f73a894>\u001b[0m in \u001b[0;36m<module>\u001b[0;34m\u001b[0m\n\u001b[0;32m----> 1\u001b[0;31m \u001b[0mdelta_T\u001b[0m\u001b[0;34m.\u001b[0m\u001b[0mwhere\u001b[0m\u001b[0;34m(\u001b[0m\u001b[0mlandweights\u001b[0m\u001b[0;34m>\u001b[0m\u001b[0;36m0\u001b[0m\u001b[0;34m)\u001b[0m\u001b[0;34m.\u001b[0m\u001b[0mplot\u001b[0m\u001b[0;34m(\u001b[0m\u001b[0mcmap\u001b[0m\u001b[0;34m=\u001b[0m\u001b[0mplt\u001b[0m\u001b[0;34m.\u001b[0m\u001b[0mcm\u001b[0m\u001b[0;34m.\u001b[0m\u001b[0mget_cmap\u001b[0m\u001b[0;34m(\u001b[0m\u001b[0;34m\"RdBu_r\"\u001b[0m\u001b[0;34m,\u001b[0m\u001b[0;36m10\u001b[0m\u001b[0;34m)\u001b[0m\u001b[0;34m,\u001b[0m \u001b[0mvmin\u001b[0m\u001b[0;34m=\u001b[0m\u001b[0;34m-\u001b[0m\u001b[0;36m1\u001b[0m\u001b[0;34m,\u001b[0m \u001b[0mvmax\u001b[0m\u001b[0;34m=\u001b[0m\u001b[0;36m1\u001b[0m\u001b[0;34m)\u001b[0m\u001b[0;34m\u001b[0m\u001b[0;34m\u001b[0m\u001b[0m\n\u001b[0m",
      "\u001b[0;31mNameError\u001b[0m: name 'delta_T' is not defined"
     ]
    }
   ],
   "source": [
    "delta_T.where(landweights>0).plot(cmap=plt.cm.get_cmap(\"RdBu_r\",10), vmin=-1, vmax=1)"
   ]
  },
  {
   "cell_type": "code",
   "execution_count": 10,
   "id": "ac965968-d24b-4c57-8fa2-67730076c72c",
   "metadata": {},
   "outputs": [
    {
     "data": {
      "text/plain": [
       "<xarray.DataArray ()>\n",
       "array(3.97905345)"
      ]
     },
     "execution_count": 10,
     "metadata": {},
     "output_type": "execute_result"
    }
   ],
   "source": [
    "(delta_T*weight_factor).mean(dim=['lat','lon'])"
   ]
  },
  {
   "cell_type": "code",
   "execution_count": 11,
   "id": "31d19661-40ab-4009-b16c-326cbae8109a",
   "metadata": {},
   "outputs": [
    {
     "data": {
      "text/plain": [
       "<matplotlib.collections.QuadMesh at 0x153ef6461470>"
      ]
     },
     "execution_count": 11,
     "metadata": {},
     "output_type": "execute_result"
    },
    {
     "data": {
      "image/png": "[encoded data removed]",
      "text/plain": [
       "<Figure size 432x288 with 2 Axes>"
      ]
     },
     "metadata": {
      "needs_background": "light"
     },
     "output_type": "display_data"
    }
   ],
   "source": [
    "delta_T.plot(vmax=10, cmap=plt.cm.bwr)"
   ]
  },
  {
   "cell_type": "code",
   "execution_count": 12,
   "id": "ba69a6f2-04b3-4afb-98a4-9d6ee8d45a52",
   "metadata": {},
   "outputs": [
    {
     "data": {
      "text/plain": [
       "<xarray.DataArray ()>\n",
       "array(6.511213, dtype=float32)"
      ]
     },
     "execution_count": 12,
     "metadata": {},
     "output_type": "execute_result"
    }
   ],
   "source": [
    "(delta_T*landweights).mean(dim=['lat','lon'])"
   ]
  },
  {
   "cell_type": "code",
   "execution_count": null,
   "id": "0c8f27bb-ecce-4cae-a0c1-909f9818c841",
   "metadata": {},
   "outputs": [],
   "source": []
  }
 ],
 "metadata": {
  "kernelspec": {
   "display_name": "CMIP6 2019.10a",
   "language": "python",
   "name": "cmip6-201910a"
  },
  "language_info": {
   "codemirror_mode": {
    "name": "ipython",
    "version": 3
   },
   "file_extension": ".py",
   "mimetype": "text/x-python",
   "name": "python",
   "nbconvert_exporter": "python",
   "pygments_lexer": "ipython3",
   "version": "3.7.3"
  }
 },
 "nbformat": 4,
 "nbformat_minor": 5
}
