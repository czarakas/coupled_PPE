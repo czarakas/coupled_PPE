{
 "cells": [
  {
   "cell_type": "markdown",
   "id": "5ddd0207-b2b3-4f30-be9f-27e33ffb3ff7",
   "metadata": {
    "tags": []
   },
   "source": [
    "# Set up workspace"
   ]
  },
  {
   "cell_type": "code",
   "execution_count": 1,
   "id": "48d49068-71f2-43f8-931a-92ee202f5005",
   "metadata": {},
   "outputs": [],
   "source": [
    "import xarray as xr\n",
    "import matplotlib.pyplot as plt\n",
    "import numpy as np\n",
    "import glob\n",
    "import pandas as pd\n",
    "from scipy.stats import ttest_ind\n",
    "from cartopy.util import add_cyclic_point\n",
    "import cartopy.crs as ccrs\n",
    "#from eofs.xarray import Eof "
   ]
  },
  {
   "cell_type": "code",
   "execution_count": 2,
   "id": "2bb1c26b-ef2c-445f-a33d-44abf5bafd81",
   "metadata": {},
   "outputs": [],
   "source": [
    "import cftime\n",
    "import scipy"
   ]
  },
  {
   "cell_type": "code",
   "execution_count": 3,
   "id": "5083ebbb-3fbf-4e72-b5a4-2530d2809861",
   "metadata": {},
   "outputs": [],
   "source": [
    "import sys\n",
    "sys.path.append('/glade/u/home/czarakas/coupled_PPE/code/utils')\n",
    "\n",
    "import make_multisimulation_dataset"
   ]
  },
  {
   "cell_type": "code",
   "execution_count": 4,
   "id": "b4ca501d-5572-4fb4-b629-930a23667e34",
   "metadata": {},
   "outputs": [],
   "source": [
    "from load_ensembles_postprocessing import *\n",
    "import quick_map"
   ]
  },
  {
   "cell_type": "code",
   "execution_count": 5,
   "id": "2dba4f31-421d-4ad4-910a-a84a6f0cc3c1",
   "metadata": {},
   "outputs": [],
   "source": [
    "path_out='/glade/work/czarakas/coupled_PPE/data/data_for_figures/timeseries/'\n",
    "#path_out='~/coupled_PPE/data/processed_data_for_figures/'"
   ]
  },
  {
   "cell_type": "markdown",
   "id": "50cc822f-b8e5-407c-8650-86c0b7c38402",
   "metadata": {
    "tags": []
   },
   "source": [
    "# Load data"
   ]
  },
  {
   "cell_type": "markdown",
   "id": "872dd686-ea62-4d30-9547-1cc85b1b2581",
   "metadata": {
    "tags": []
   },
   "source": [
    "### Define variables to load"
   ]
  },
  {
   "cell_type": "code",
   "execution_count": 6,
   "id": "fe32b15c-17f4-4c8d-bbac-8da82e84f952",
   "metadata": {},
   "outputs": [],
   "source": [
    "var='VPD_CAN' #'TSKIN'\n",
    "domain='lnd'\n",
    "ensemble='offline'\n",
    "season='Annual'"
   ]
  },
  {
   "cell_type": "markdown",
   "id": "6f0a33f9-30e2-42a4-8b0c-24870ad9d904",
   "metadata": {
    "tags": []
   },
   "source": [
    "### Load full ensemble data"
   ]
  },
  {
   "cell_type": "code",
   "execution_count": 7,
   "id": "89cffa50-8e0a-457c-ab8c-373af74acdae",
   "metadata": {
    "tags": []
   },
   "outputs": [
    {
     "name": "stderr",
     "output_type": "stream",
     "text": [
      "/glade/u/home/czarakas/coupled_PPE/code/utils/load_ensembles_postprocessing.py:67: FutureWarning: In xarray version 0.15 the default behaviour of `open_mfdataset`\n",
      "will change. To retain the existing behavior, pass\n",
      "combine='nested'. To use future default behavior, pass\n",
      "combine='by_coords'. See\n",
      "http://xarray.pydata.org/en/stable/combining.html#combining-multi\n",
      "\n",
      "  ds = xr.open_mfdataset(fpath)\n",
      "/glade/u/home/czarakas/.conda/envs/EOF_env/lib/python3.7/site-packages/xarray/backends/api.py:941: FutureWarning: The datasets supplied have global dimension coordinates. You may want\n",
      "to use the new `combine_by_coords` function (or the\n",
      "`combine='by_coords'` option to `open_mfdataset`) to order the datasets\n",
      "before concatenation. Alternatively, to continue concatenating based\n",
      "on the order the datasets are supplied in future, please use the new\n",
      "`combine_nested` function (or the `combine='nested'` option to\n",
      "open_mfdataset).\n",
      "  from_openmfds=True,\n"
     ]
    }
   ],
   "source": [
    "if ensemble=='coupled':\n",
    "    ensemble_coupled = load_coupled_ensemble(var=var, domain=domain, printon=False, subdir='month_1/')\n",
    "elif ensemble=='offline':\n",
    "    ensemble_coupled = load_offline_ensemble(var=var, domain=domain, printon=False, subdir='month_1/')"
   ]
  },
  {
   "cell_type": "code",
   "execution_count": 8,
   "id": "8292bc9d-159f-4ceb-8287-411d4efbad7a",
   "metadata": {
    "tags": []
   },
   "outputs": [],
   "source": [
    "if ensemble=='offline':\n",
    "    ensemble_path='offline_simulations'\n",
    "    refcase_id='OFFL0000_PI_v02'\n",
    "elif ensemble=='coupled':\n",
    "    ensemble_path='coupled_simulations'\n",
    "    refcase_id='COUP0000_PI_SOM'\n",
    "if domain=='atm':\n",
    "    domain_suffix='.cam.h0.'\n",
    "elif domain=='lnd':\n",
    "    domain_suffix='.clm2.h0.'\n",
    "    \n",
    "basecase_lnd=xr.open_mfdataset('/glade/campaign/cgd/tss/people/czarakas/CoupledPPE/'+ensemble_path+'/'+\n",
    "                                 refcase_id+'/'+domain+'/proc/tseries/month_1/'+refcase_id+domain_suffix+var+'.*.nc',\n",
    "                              combine='by_coords')"
   ]
  },
  {
   "cell_type": "markdown",
   "id": "42aed1c2-af2f-4ba1-a71d-6a5fc7eb31f8",
   "metadata": {
    "tags": []
   },
   "source": [
    "### Check ensemble"
   ]
  },
  {
   "cell_type": "code",
   "execution_count": 9,
   "id": "5f93296e-0e26-4f5b-967a-f0add12759ae",
   "metadata": {},
   "outputs": [],
   "source": [
    "ensemble_coupled[-1]=ensemble_coupled[-1].sel(time=slice('0049-02-01', '0189-01-01'))"
   ]
  },
  {
   "cell_type": "code",
   "execution_count": 10,
   "id": "ffad84f7-9d78-4823-8573-49c8c9a4bac9",
   "metadata": {},
   "outputs": [],
   "source": [
    "expected_start_time=cftime.DatetimeNoLeap(49,2,1,0)\n",
    "expected_end_time=cftime.DatetimeNoLeap(189,1,1,0)\n",
    "for i,ds in enumerate(ensemble_coupled):\n",
    "    #print(i)\n",
    "    #print(ds.case_id)\n",
    "    if np.size(ds.time)!=1680:\n",
    "        print(ds.case_id)\n",
    "        print('!!!!! Time size is wrong dimension')\n",
    "    if ds.time.values[0] != expected_start_time:\n",
    "        print(ds.time.values[0])\n",
    "    if ds.time.values[-1] != expected_end_time:\n",
    "        print(ds.time.values[-1])\n",
    "    #print('----------')"
   ]
  },
  {
   "cell_type": "code",
   "execution_count": 12,
   "id": "d6bd9518-57d8-4246-ac6d-ad35f49c30f9",
   "metadata": {
    "collapsed": true,
    "jupyter": {
     "outputs_hidden": true
    },
    "tags": []
   },
   "outputs": [
    {
     "name": "stdout",
     "output_type": "stream",
     "text": [
      "0049-02-01 00:00:00\n",
      "0189-01-01 00:00:00\n",
      "0049-02-01 00:00:00\n",
      "0189-01-01 00:00:00\n",
      "0049-02-01 00:00:00\n",
      "0189-01-01 00:00:00\n",
      "0049-02-01 00:00:00\n",
      "0189-01-01 00:00:00\n",
      "0049-02-01 00:00:00\n",
      "0189-01-01 00:00:00\n",
      "0049-02-01 00:00:00\n",
      "0189-01-01 00:00:00\n",
      "0049-02-01 00:00:00\n",
      "0189-01-01 00:00:00\n",
      "0049-02-01 00:00:00\n",
      "0189-01-01 00:00:00\n",
      "0049-02-01 00:00:00\n",
      "0189-01-01 00:00:00\n",
      "0049-02-01 00:00:00\n",
      "0189-01-01 00:00:00\n",
      "0049-02-01 00:00:00\n",
      "0189-01-01 00:00:00\n",
      "0049-02-01 00:00:00\n",
      "0189-01-01 00:00:00\n",
      "0049-02-01 00:00:00\n",
      "0189-01-01 00:00:00\n",
      "0049-02-01 00:00:00\n",
      "0189-01-01 00:00:00\n",
      "0049-02-01 00:00:00\n",
      "0189-01-01 00:00:00\n",
      "0049-02-01 00:00:00\n",
      "0189-01-01 00:00:00\n",
      "0049-02-01 00:00:00\n",
      "0189-01-01 00:00:00\n",
      "0049-02-01 00:00:00\n",
      "0189-01-01 00:00:00\n",
      "0049-02-01 00:00:00\n",
      "0189-01-01 00:00:00\n",
      "0049-02-01 00:00:00\n",
      "0189-01-01 00:00:00\n",
      "0049-02-01 00:00:00\n",
      "0189-01-01 00:00:00\n",
      "0049-02-01 00:00:00\n",
      "0189-01-01 00:00:00\n",
      "0049-02-01 00:00:00\n",
      "0189-01-01 00:00:00\n",
      "0049-02-01 00:00:00\n",
      "0189-01-01 00:00:00\n",
      "0049-02-01 00:00:00\n",
      "0189-01-01 00:00:00\n",
      "0049-02-01 00:00:00\n",
      "0189-01-01 00:00:00\n",
      "0049-02-01 00:00:00\n",
      "0189-01-01 00:00:00\n",
      "0049-02-01 00:00:00\n",
      "0189-01-01 00:00:00\n",
      "0049-02-01 00:00:00\n",
      "0189-01-01 00:00:00\n",
      "0049-02-01 00:00:00\n",
      "0189-01-01 00:00:00\n",
      "0049-02-01 00:00:00\n",
      "0189-01-01 00:00:00\n",
      "0049-02-01 00:00:00\n",
      "0189-01-01 00:00:00\n",
      "0049-02-01 00:00:00\n",
      "0189-01-01 00:00:00\n",
      "0049-02-01 00:00:00\n",
      "0189-01-01 00:00:00\n",
      "0049-02-01 00:00:00\n",
      "0189-01-01 00:00:00\n",
      "0049-02-01 00:00:00\n",
      "0189-01-01 00:00:00\n"
     ]
    }
   ],
   "source": [
    "expected_start_time=cftime.DatetimeNoLeap(49,1,16,12)\n",
    "expected_end_time=cftime.DatetimeNoLeap(188,12,16,12)\n",
    "for i,ds in enumerate(ensemble_coupled):\n",
    "    #print(i)\n",
    "    #print(ds.case_id)\n",
    "    if np.size(ds.time)!=1680:\n",
    "        #print(ds.case_id)\n",
    "        print('!!!!! Time size is wrong dimension')\n",
    "    if ds.time.values[0] != expected_start_time:\n",
    "        print(ds.time.values[0])\n",
    "    if ds.time.values[-1] != expected_end_time:\n",
    "        print(ds.time.values[-1])\n",
    "    #print('----------')"
   ]
  },
  {
   "cell_type": "markdown",
   "id": "8992b3d6-044c-443d-88cc-075ee4d0d2d0",
   "metadata": {
    "tags": []
   },
   "source": [
    "# Make datasets with all data"
   ]
  },
  {
   "cell_type": "code",
   "execution_count": 11,
   "id": "d23fafc8-d7de-4d13-bc47-b1b9adfae44f",
   "metadata": {
    "tags": []
   },
   "outputs": [
    {
     "name": "stderr",
     "output_type": "stream",
     "text": [
      "/glade/u/home/czarakas/.conda/envs/EOF_env/lib/python3.7/site-packages/dask/array/numpy_compat.py:40: RuntimeWarning: invalid value encountered in true_divide\n",
      "  x = np.divide(x1, x2, out)\n"
     ]
    }
   ],
   "source": [
    "# Define grid for dataset\n",
    "ds_grid = ensemble_coupled[0]\n",
    "\n",
    "# Make data arrays\n",
    "var_array_1time = make_multisimulation_dataset.make_empty_dataarray(ds_grid=ds_grid, var=var, keys=keys)\n",
    "\n",
    "var_array=var_array_1time.expand_dims({\"time\": ds_grid.time},axis=0).copy()"
   ]
  },
  {
   "cell_type": "code",
   "execution_count": 12,
   "id": "c627c08c-eb23-47b9-9995-c3df894f92cc",
   "metadata": {
    "tags": []
   },
   "outputs": [
    {
     "name": "stdout",
     "output_type": "stream",
     "text": [
      "0\n",
      "1\n",
      "2\n",
      "3\n",
      "4\n",
      "5\n",
      "6\n",
      "7\n",
      "8\n",
      "9\n",
      "10\n",
      "11\n",
      "12\n",
      "13\n",
      "14\n",
      "15\n",
      "16\n",
      "17\n",
      "18\n",
      "19\n",
      "20\n",
      "21\n",
      "22\n",
      "23\n",
      "24\n",
      "25\n",
      "26\n",
      "27\n",
      "28\n",
      "29\n",
      "30\n",
      "31\n",
      "32\n",
      "33\n",
      "34\n",
      "35\n"
     ]
    }
   ],
   "source": [
    "# Put data in data arrays\n",
    "for i, ds in enumerate(ensemble_coupled):\n",
    "    print(i)\n",
    "    var_array[:,:,:,i]=ds[var][:,:,:]"
   ]
  },
  {
   "cell_type": "markdown",
   "id": "4968c0fa-fa40-4a4e-8d67-345ac0805538",
   "metadata": {},
   "source": [
    "### Save the concatenated data"
   ]
  },
  {
   "cell_type": "code",
   "execution_count": 13,
   "id": "4027a9d1-d93d-4f68-bb5e-6214552cc613",
   "metadata": {
    "tags": []
   },
   "outputs": [],
   "source": [
    "fname = var+'_timeseries_'+ensemble+'.nc'\n",
    "ds_array=var_array.to_dataset(name=var)\n",
    "ds_array.to_netcdf(path_out+fname)"
   ]
  },
  {
   "cell_type": "markdown",
   "id": "df9ab64a-55d1-4aca-8b83-7bd86d58228e",
   "metadata": {
    "jp-MarkdownHeadingCollapsed": true,
    "tags": []
   },
   "source": [
    "# Calculate variables"
   ]
  },
  {
   "cell_type": "markdown",
   "id": "e30ae2ac-ea9f-489d-8481-7d561f3d5d6f",
   "metadata": {},
   "source": [
    "## Precipitation"
   ]
  },
  {
   "cell_type": "code",
   "execution_count": 15,
   "id": "30c7e00b-b6ee-4e12-b804-105fb52417ba",
   "metadata": {},
   "outputs": [],
   "source": [
    "ds_rain = xr.open_dataset(path_out+'RAIN_FROM_ATM_timeseries_coupled.nc')\n",
    "ds_snow = xr.open_dataset(path_out+'SNOW_FROM_ATM_timeseries_coupled.nc')"
   ]
  },
  {
   "cell_type": "code",
   "execution_count": 18,
   "id": "8ffb20e6-67db-4425-8681-cea55aed90c4",
   "metadata": {},
   "outputs": [],
   "source": [
    "prec_from_atm = ds_rain.RAIN_FROM_ATM+ds_snow.SNOW_FROM_ATM"
   ]
  },
  {
   "cell_type": "code",
   "execution_count": 19,
   "id": "72607543-c484-4c97-8db5-f5d8e3ed91c7",
   "metadata": {},
   "outputs": [],
   "source": [
    "var='calculated_PREC_FROM_ATM'\n",
    "fname = var+'_timeseries_'+ensemble+'.nc'\n",
    "ds_array=prec_from_atm.to_dataset(name=var)\n",
    "ds_array.to_netcdf(path_out+fname)"
   ]
  },
  {
   "cell_type": "markdown",
   "id": "b6fa5f5d-c570-492f-a6fb-0259ad2a2fb1",
   "metadata": {},
   "source": [
    "### Reference case"
   ]
  },
  {
   "cell_type": "code",
   "execution_count": 7,
   "id": "95ab2108-0ce2-41d0-ac7f-ba65170ef862",
   "metadata": {},
   "outputs": [],
   "source": [
    "if ensemble=='offline':\n",
    "    ensemble_path='offline_simulations'\n",
    "    refcase_id='OFFL0000_PI_v02'\n",
    "elif ensemble=='coupled':\n",
    "    ensemble_path='coupled_simulations'\n",
    "    refcase_id='COUP0000_PI_SOM'\n",
    "if domain=='atm':\n",
    "    domain_suffix='.cam.h0.'\n",
    "elif domain=='lnd':\n",
    "    domain_suffix='.clm2.h0.'"
   ]
  },
  {
   "cell_type": "code",
   "execution_count": 8,
   "id": "98644708-8dfe-4293-af1a-2a410ac1a0bf",
   "metadata": {},
   "outputs": [],
   "source": [
    "basecase_lnd_rain=xr.open_dataset('/glade/campaign/cgd/tss/czarakas/CoupledPPE/'+ensemble_path+'/'+\n",
    "                                 refcase_id+'/'+domain+'/proc/tseries/'+refcase_id+domain_suffix+'timeseries.'+'RAIN_FROM_ATM'+'.nc')\n",
    "basecase_lnd_snow=xr.open_dataset('/glade/campaign/cgd/tss/czarakas/CoupledPPE/'+ensemble_path+'/'+\n",
    "                                 refcase_id+'/'+domain+'/proc/tseries/'+refcase_id+domain_suffix+'timeseries.'+'SNOW_FROM_ATM'+'.nc')"
   ]
  },
  {
   "cell_type": "code",
   "execution_count": 9,
   "id": "827a1a50-3b87-44f9-953c-0b0a8107aac8",
   "metadata": {},
   "outputs": [],
   "source": [
    "basecase_prec_from_atm = basecase_lnd_rain.RAIN_FROM_ATM+basecase_lnd_snow.SNOW_FROM_ATM"
   ]
  },
  {
   "cell_type": "code",
   "execution_count": 11,
   "id": "9c5854c8-510d-4666-b60f-073facc5a7f3",
   "metadata": {},
   "outputs": [],
   "source": [
    "var='calculated_PREC_FROM_ATM'\n",
    "ref_fpath='/glade/campaign/cgd/tss/czarakas/CoupledPPE/'+ensemble_path+'/'+refcase_id+'/'+domain+'/proc/tseries/'+refcase_id+domain_suffix+'timeseries.'+var+'.nc'\n",
    "\n",
    "\n",
    "ds_array=basecase_prec_from_atm.to_dataset(name=var)\n",
    "ds_array.to_netcdf(ref_fpath)"
   ]
  },
  {
   "cell_type": "code",
   "execution_count": null,
   "id": "f764ff53-1436-46c1-a15b-e3318b1a3543",
   "metadata": {},
   "outputs": [],
   "source": []
  }
 ],
 "metadata": {
  "kernelspec": {
   "display_name": "Python [conda env:.conda-EOF_env]",
   "language": "python",
   "name": "conda-env-.conda-EOF_env-py"
  },
  "language_info": {
   "codemirror_mode": {
    "name": "ipython",
    "version": 3
   },
   "file_extension": ".py",
   "mimetype": "text/x-python",
   "name": "python",
   "nbconvert_exporter": "python",
   "pygments_lexer": "ipython3",
   "version": "3.7.2"
  }
 },
 "nbformat": 4,
 "nbformat_minor": 5
}
