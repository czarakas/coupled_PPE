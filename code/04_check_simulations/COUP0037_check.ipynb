{
 "cells": [
  {
   "cell_type": "code",
   "execution_count": 1,
   "id": "c2db9edc-2114-44a1-947e-f1726d72f877",
   "metadata": {},
   "outputs": [],
   "source": [
    "import xarray as xr\n",
    "import numpy as np\n",
    "import matplotlib.pyplot as plt"
   ]
  },
  {
   "cell_type": "code",
   "execution_count": 2,
   "id": "b806493a-22b7-4144-9264-64648dad695e",
   "metadata": {},
   "outputs": [
    {
     "name": "stderr",
     "output_type": "stream",
     "text": [
      "/ncar/usr/jupyterhub/envs/pangeo-2019.09.12/lib/python3.7/site-packages/xarray/backends/api.py:783: FutureWarning: In xarray version 0.13 `auto_combine` will be deprecated.\n",
      "  coords=coords)\n",
      "/ncar/usr/jupyterhub/envs/pangeo-2019.09.12/lib/python3.7/site-packages/xarray/backends/api.py:783: FutureWarning: The datasets supplied have global dimension coordinates. You may want\n",
      "to use the new `combine_by_coords` function (or the\n",
      "`combine='by_coords'` option to `open_mfdataset` to order the datasets\n",
      "before concatenation. Alternatively, to continue concatenating based\n",
      "on the order the datasets are supplied in in future, please use the\n",
      "new `combine_nested` function (or the `combine='nested'` option to\n",
      "open_mfdataset).\n",
      "  coords=coords)\n"
     ]
    }
   ],
   "source": [
    "ds_new = xr.open_mfdataset('/glade/scratch/czarakas/archive/COUP0037_PI_SOM_v06/lnd/hist/COUP0037_PI_SOM_v06.clm2.h0.*.nc')"
   ]
  },
  {
   "cell_type": "code",
   "execution_count": 4,
   "id": "dd0f3e3c-535c-4652-a2ef-4d2ae85412da",
   "metadata": {},
   "outputs": [],
   "source": [
    "ds_old=xr.open_mfdataset('/glade/campaign/cgd/tss/people/czarakas/CoupledPPE/coupled_simulations/COUP0037_PI_SOM_v02/lnd/proc/tseries/*.TSKIN.nc')"
   ]
  },
  {
   "cell_type": "code",
   "execution_count": 5,
   "id": "925055e0-8a6d-44fb-9b8a-fde4d1528650",
   "metadata": {},
   "outputs": [],
   "source": [
    "vals_new=ds_new.TSKIN.values"
   ]
  },
  {
   "cell_type": "code",
   "execution_count": 6,
   "id": "de0cc00f-bd1f-4bc9-96fd-5e3ee3c83284",
   "metadata": {},
   "outputs": [],
   "source": [
    "vals_old=ds_old.TSKIN[12*101:12*125,:,:].values"
   ]
  },
  {
   "cell_type": "code",
   "execution_count": 7,
   "id": "c62c967d-f06e-4830-886e-00abaf849115",
   "metadata": {},
   "outputs": [
    {
     "name": "stdout",
     "output_type": "stream",
     "text": [
      "0.0\n",
      "0.0\n"
     ]
    }
   ],
   "source": [
    "print(np.nanmax(vals_old-vals_new))\n",
    "print(np.nanmin(vals_old-vals_new))"
   ]
  },
  {
   "cell_type": "code",
   "execution_count": 8,
   "id": "dfeb95bc-912e-43d9-99dc-255e6c6e17df",
   "metadata": {},
   "outputs": [
    {
     "data": {
      "text/plain": [
       "[<matplotlib.lines.Line2D at 0x1464b1891780>]"
      ]
     },
     "execution_count": 8,
     "metadata": {},
     "output_type": "execute_result"
    },
    {
     "data": {
      "image/png": "[encoded data removed]",
      "text/plain": [
       "<Figure size 432x288 with 1 Axes>"
      ]
     },
     "metadata": {
      "needs_background": "light"
     },
     "output_type": "display_data"
    }
   ],
   "source": [
    "plt.plot(vals_new[:,75,105],vals_old[:,75,105],'.')"
   ]
  },
  {
   "cell_type": "code",
   "execution_count": null,
   "id": "31c34312-0e92-41c9-911c-2bf8a2adc35f",
   "metadata": {},
   "outputs": [],
   "source": []
  }
 ],
 "metadata": {
  "kernelspec": {
   "display_name": "Pangeo (2019.09.12 - py3.7)",
   "language": "python",
   "name": "pangeo-2019.09.12"
  },
  "language_info": {
   "codemirror_mode": {
    "name": "ipython",
    "version": 3
   },
   "file_extension": ".py",
   "mimetype": "text/x-python",
   "name": "python",
   "nbconvert_exporter": "python",
   "pygments_lexer": "ipython3",
   "version": "3.7.3"
  }
 },
 "nbformat": 4,
 "nbformat_minor": 5
}
