{
 "cells": [
  {
   "cell_type": "code",
   "execution_count": 1,
   "id": "bf7e8e4f-3ec2-4961-886a-52d0f805556c",
   "metadata": {},
   "outputs": [],
   "source": [
    "import xarray as xr\n",
    "import numpy as np"
   ]
  },
  {
   "cell_type": "code",
   "execution_count": 2,
   "id": "9f9186d3-af83-4562-bf91-e70ab62ae53d",
   "metadata": {},
   "outputs": [],
   "source": [
    "case_dir='/glade/campaign/cgd/tss/people/czarakas/CoupledPPE/coupled_simulations/COUP0006_PI_SOM_v02/'\n",
    "\n",
    "atm_h0_new = xr.open_dataset(case_dir+'atm/proc/tseries/month_1/'+'COUP0006_PI_SOM_v02.cam.h0.FSNS.004901-018812.nc')\n",
    "atm_h0_old = xr.open_dataset(case_dir+'atm/proc/tseries/'+'COUP0006_PI_SOM_v02.cam.h0.timeseries.FSNS.nc')"
   ]
  },
  {
   "cell_type": "code",
   "execution_count": 3,
   "id": "326cb442-7723-4b48-b323-fd158f3c2f46",
   "metadata": {},
   "outputs": [],
   "source": [
    "diff=atm_h0_old.FSNS.values-atm_h0_new.FSNS.values"
   ]
  },
  {
   "cell_type": "code",
   "execution_count": 4,
   "id": "36d5d3a4-9741-4011-81d8-b2554baee455",
   "metadata": {},
   "outputs": [
    {
     "name": "stdout",
     "output_type": "stream",
     "text": [
      "(1680, 96, 144)\n",
      "0.0\n",
      "0.0\n"
     ]
    }
   ],
   "source": [
    "print(np.shape(diff))\n",
    "print(np.nanmax(diff))\n",
    "print(np.nanmin(diff))"
   ]
  },
  {
   "cell_type": "code",
   "execution_count": 5,
   "id": "b994087f-c86b-4ce0-b228-d8d7160d2ad3",
   "metadata": {},
   "outputs": [],
   "source": [
    "lnd_h0_new = xr.open_dataset(case_dir+'lnd/proc/tseries/month_1/'+'COUP0006_PI_SOM_v02.clm2.h1.TLAI.004901-018812.nc')\n",
    "lnd_h0_old = xr.open_dataset(case_dir+'lnd/proc/tseries/'+'COUP0006_PI_SOM_v02.clm2.h0.timeseries.TLAI.nc')"
   ]
  },
  {
   "cell_type": "code",
   "execution_count": 6,
   "id": "46672235-f7e5-4d18-8e66-b90176572be0",
   "metadata": {},
   "outputs": [
    {
     "ename": "AttributeError",
     "evalue": "'Dataset' object has no attribute 'RAIN_FROM_ATM'",
     "output_type": "error",
     "traceback": [
      "\u001b[0;31m---------------------------------------------------------------------------\u001b[0m",
      "\u001b[0;31mAttributeError\u001b[0m                            Traceback (most recent call last)",
      "\u001b[0;32m<ipython-input-6-ca1b1736b710>\u001b[0m in \u001b[0;36m<module>\u001b[0;34m\u001b[0m\n\u001b[0;32m----> 1\u001b[0;31m \u001b[0mlnd_h0_old\u001b[0m\u001b[0;34m.\u001b[0m\u001b[0mRAIN_FROM_ATM\u001b[0m\u001b[0;34m\u001b[0m\u001b[0;34m\u001b[0m\u001b[0m\n\u001b[0m",
      "\u001b[0;32m/ncar/usr/jupyterhub/envs/cmip6-201910a/lib/python3.7/site-packages/xarray/core/common.py\u001b[0m in \u001b[0;36m__getattr__\u001b[0;34m(self, name)\u001b[0m\n\u001b[1;32m    226\u001b[0m                     \u001b[0;32mreturn\u001b[0m \u001b[0msource\u001b[0m\u001b[0;34m[\u001b[0m\u001b[0mname\u001b[0m\u001b[0;34m]\u001b[0m\u001b[0;34m\u001b[0m\u001b[0;34m\u001b[0m\u001b[0m\n\u001b[1;32m    227\u001b[0m         raise AttributeError(\n\u001b[0;32m--> 228\u001b[0;31m             \u001b[0;34m\"%r object has no attribute %r\"\u001b[0m \u001b[0;34m%\u001b[0m \u001b[0;34m(\u001b[0m\u001b[0mtype\u001b[0m\u001b[0;34m(\u001b[0m\u001b[0mself\u001b[0m\u001b[0;34m)\u001b[0m\u001b[0;34m.\u001b[0m\u001b[0m__name__\u001b[0m\u001b[0;34m,\u001b[0m \u001b[0mname\u001b[0m\u001b[0;34m)\u001b[0m\u001b[0;34m\u001b[0m\u001b[0;34m\u001b[0m\u001b[0m\n\u001b[0m\u001b[1;32m    229\u001b[0m         )\n\u001b[1;32m    230\u001b[0m \u001b[0;34m\u001b[0m\u001b[0m\n",
      "\u001b[0;31mAttributeError\u001b[0m: 'Dataset' object has no attribute 'RAIN_FROM_ATM'"
     ]
    }
   ],
   "source": [
    "lnd_h0_old#.RAIN_FROM_ATM"
   ]
  },
  {
   "cell_type": "code",
   "execution_count": 7,
   "id": "dc882152-4d08-4e54-aaca-c354a3f2fbcb",
   "metadata": {},
   "outputs": [],
   "source": [
    "diff=lnd_h0_old.TLAI.values-lnd_h0_new.TLAI.values"
   ]
  },
  {
   "cell_type": "code",
   "execution_count": 8,
   "id": "b15f529c-1908-434a-9650-76f4c2d85c63",
   "metadata": {},
   "outputs": [
    {
     "name": "stdout",
     "output_type": "stream",
     "text": [
      "(1680, 96, 144)\n",
      "0.0\n",
      "0.0\n"
     ]
    }
   ],
   "source": [
    "print(np.shape(diff))\n",
    "print(np.nanmax(diff))\n",
    "print(np.nanmin(diff))"
   ]
  },
  {
   "cell_type": "code",
   "execution_count": null,
   "id": "416c7b8b-c200-4ab3-8969-1974005ffb35",
   "metadata": {},
   "outputs": [],
   "source": [
    "lnd_h3_new = xr.open_dataset(case_dir+'lnd/proc/tseries/month_1/'+'COUP0006_PI_SOM_v02.clm2.h1.TLAI.004901-018812.nc')\n",
    "lnd_h3_old = xr.open_dataset(case_dir+'lnd/proc/tseries/'+'COUP0006_PI_SOM_v02.clm2.h0.timeseries.TLAI.nc')"
   ]
  }
 ],
 "metadata": {
  "kernelspec": {
   "display_name": "CMIP6 2019.10a",
   "language": "python",
   "name": "cmip6-201910a"
  },
  "language_info": {
   "codemirror_mode": {
    "name": "ipython",
    "version": 3
   },
   "file_extension": ".py",
   "mimetype": "text/x-python",
   "name": "python",
   "nbconvert_exporter": "python",
   "pygments_lexer": "ipython3",
   "version": "3.7.3"
  }
 },
 "nbformat": 4,
 "nbformat_minor": 5
}
