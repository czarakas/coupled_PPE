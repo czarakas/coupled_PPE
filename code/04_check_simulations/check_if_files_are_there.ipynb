{
 "cells": [
  {
   "cell_type": "code",
   "execution_count": 1,
   "id": "5852f936-846a-45d7-9ff1-88e52ceb6e75",
   "metadata": {},
   "outputs": [],
   "source": [
    "import glob\n",
    "import xarray as xr\n",
    "import numpy as np\n",
    "import os"
   ]
  },
  {
   "cell_type": "code",
   "execution_count": 2,
   "id": "ae39de79-ab94-42d6-b6ad-6e1ff74d9707",
   "metadata": {},
   "outputs": [],
   "source": [
    "basedir='/glade/campaign/cgd/tss/czarakas/'"
   ]
  },
  {
   "cell_type": "code",
   "execution_count": 3,
   "id": "f7595464-088d-4733-8c35-8f56852d171f",
   "metadata": {
    "tags": []
   },
   "outputs": [],
   "source": [
    "casenames=['COUP0000_PI_SOM',\n",
    "           'COUP0001_PI_SOM_v02',\n",
    "           'COUP0002_PI_SOM_v02',\n",
    "           'COUP0003_PI_SOM_v02',\n",
    "           'COUP0004_PI_SOM_v02',\n",
    "           'COUP0005_PI_SOM_v02',\n",
    "           'COUP0006_PI_SOM_v02',\n",
    "           'COUP0007_PI_SOM_v02',\n",
    "           'COUP0008_PI_SOM_v02',\n",
    "           'COUP0009_PI_SOM_v02',\n",
    "           'COUP0010_PI_SOM_v02',\n",
    "           'COUP0011_PI_SOM_v02',\n",
    "           'COUP0012_PI_SOM_v02',\n",
    "           'COUP0013_PI_SOM_v02',\n",
    "           'COUP0014_PI_SOM_v02',\n",
    "           'COUP0015_PI_SOM_v02',\n",
    "           'COUP0016_PI_SOM_v02',\n",
    "           'COUP0017_PI_SOM_v02',\n",
    "           'COUP0018_PI_SOM_v02',\n",
    "           'COUP0019_PI_SOM_v02',\n",
    "           'COUP0020_PI_SOM_v02',\n",
    "           'COUP0021_PI_SOM_v02',\n",
    "           'COUP0022_PI_SOM_v02',\n",
    "           'COUP0023_PI_SOM_v02',\n",
    "           'COUP0024_PI_SOM_v02',\n",
    "           'COUP0025_PI_SOM_v02',\n",
    "           'COUP0026_PI_SOM_v02',\n",
    "           'COUP0027_PI_SOM_v02',\n",
    "           'COUP0028_PI_SOM_v02',\n",
    "           'COUP0029_PI_SOM_v02',\n",
    "           'COUP0030_PI_SOM_v02',\n",
    "           'COUP0031_PI_SOM_v02',\n",
    "           'COUP0032_PI_SOM_v02',\n",
    "           'COUP0033_PI_SOM_v02',\n",
    "           'COUP0034_PI_SOM_v02',\n",
    "           'COUP0035_PI_SOM_v02',\n",
    "           'COUP0036_PI_SOM_v02',\n",
    "           'COUP0037_PI_SOM_v02']"
   ]
  },
  {
   "cell_type": "markdown",
   "id": "c7433d45-70c7-4114-939a-b369bd2054ec",
   "metadata": {},
   "source": [
    "# Check land files"
   ]
  },
  {
   "cell_type": "code",
   "execution_count": 4,
   "id": "d0221b14-4f19-4dc4-898c-0c1ea8a5ab17",
   "metadata": {},
   "outputs": [],
   "source": [
    "years_10years = np.arange(49,179,10)\n",
    "years_10years_str = []\n",
    "for i in years_10years:\n",
    "    years_10years_str.append(f'{i:04d}')\n",
    "    \n",
    "lnd_h0_dates_expected=years_10years_str\n",
    "lnd_h1_dates_expected=years_10years_str\n",
    "lnd_h2_dates_expected=years_10years_str"
   ]
  },
  {
   "cell_type": "code",
   "execution_count": null,
   "id": "de2a137e-3a9c-4e06-8083-d54e1af506dc",
   "metadata": {},
   "outputs": [],
   "source": [
    "lnd_h3_dates_expected_int = np.arange(85,171)\n",
    "lnd_h3_dates_expected = []\n",
    "for i in lnd_h3_dates_expected_int:\n",
    "    lnd_h3_dates_expected.append(f'{i:04d}')"
   ]
  },
  {
   "cell_type": "code",
   "execution_count": null,
   "id": "85d0eec3-4eb6-4191-9308-8b3a2bbc59ac",
   "metadata": {
    "tags": []
   },
   "outputs": [
    {
     "name": "stdout",
     "output_type": "stream",
     "text": [
      "COUP0000_PI_SOM\n"
     ]
    },
    {
     "name": "stderr",
     "output_type": "stream",
     "text": [
      "/ncar/usr/jupyterhub/envs/pangeo-3.6/lib/python3.6/site-packages/xarray/coding/times.py:132: SerializationWarning: Unable to decode time axis into full numpy.datetime64 objects, continuing using dummy cftime.datetime objects instead, reason: dates out of range\n",
      "  enable_cftimeindex)\n",
      "/ncar/usr/jupyterhub/envs/pangeo-3.6/lib/python3.6/site-packages/xarray/coding/variables.py:69: SerializationWarning: Unable to decode time axis into full numpy.datetime64 objects, continuing using dummy cftime.datetime objects instead, reason: dates out of range\n",
      "  return self.func(self.array)\n"
     ]
    }
   ],
   "source": [
    "# Check land h0\n",
    "for casename in casenames:\n",
    "    lnd_path = basedir+casename+'/lnd/hist/'\n",
    "    print(casename)\n",
    "    for yr in lnd_h0_dates_expected:\n",
    "        fname=casename+'.clm2.h0.'+yr+'-02-01-00000.nc'\n",
    "        if os.path.isfile(lnd_path+fname):\n",
    "            ds = xr.open_dataset(lnd_path+fname)\n",
    "            ds_size = np.size(ds.time)\n",
    "            if ds_size!=120:\n",
    "                print('>>> '+ fname+' (size='+str(ds_size)+')')"
   ]
  },
  {
   "cell_type": "code",
   "execution_count": null,
   "id": "37f608dc-bc44-4a98-a9b2-a27f55d7a238",
   "metadata": {
    "tags": []
   },
   "outputs": [],
   "source": [
    "# Check land h1\n",
    "for casename in casenames:\n",
    "    lnd_path = basedir+casename+'/lnd/hist/'\n",
    "    print(casename)\n",
    "    for yr in lnd_h1_dates_expected:\n",
    "        fname=casename+'.clm2.h1.'+yr+'-02-01-00000.nc'\n",
    "        if os.path.isfile(lnd_path+fname):\n",
    "            ds = xr.open_dataset(lnd_path+fname)\n",
    "            ds_size = np.size(ds.time)\n",
    "            if ds_size!=120:\n",
    "                print('>>> '+ fname+' (size='+str(ds_size)+')')"
   ]
  },
  {
   "cell_type": "code",
   "execution_count": null,
   "id": "e01847dc-0bfb-4e5c-89c1-47c12c83e044",
   "metadata": {},
   "outputs": [],
   "source": [
    "# Check land h2\n",
    "for casename in casenames:\n",
    "    lnd_path = basedir+casename+'/lnd/hist/'\n",
    "    print(casename)\n",
    "    for yr in lnd_h2_dates_expected:\n",
    "        fname=casename+'.clm2.h2.'+yr+'-02-01-00000.nc'\n",
    "        if os.path.isfile(lnd_path+fname):\n",
    "            ds = xr.open_dataset(lnd_path+fname)\n",
    "            ds_size = np.size(ds.time)\n",
    "            if ds_size!=120:\n",
    "                print('>>> '+ fname+' (size='+str(ds_size)+')')"
   ]
  },
  {
   "cell_type": "code",
   "execution_count": null,
   "id": "8eea7414-e142-4247-a930-78e8b421fcfb",
   "metadata": {
    "tags": []
   },
   "outputs": [],
   "source": [
    "# Check land h3\n",
    "for casename in casenames:\n",
    "    lnd_path = basedir+casename+'/lnd/hist/'\n",
    "    print(casename)\n",
    "    for yr in lnd_h3_dates_expected:\n",
    "        fname=casename+'.clm2.h3.'+yr+'-01-02-00000.nc'\n",
    "        if os.path.isfile(lnd_path+fname):\n",
    "            ds = xr.open_dataset(lnd_path+fname)\n",
    "            ds_size = np.size(ds.time)\n",
    "            if ds_size!=365:\n",
    "                print('>>> '+ fname+' (size='+str(ds_size)+')')"
   ]
  },
  {
   "cell_type": "markdown",
   "id": "f54ded8b-b6cd-43b4-a7b9-6e57801b79b5",
   "metadata": {},
   "source": [
    "# Check atmosphere files"
   ]
  },
  {
   "cell_type": "code",
   "execution_count": null,
   "id": "15c7d494-4332-493a-9374-8404e53416d9",
   "metadata": {},
   "outputs": [],
   "source": [
    "years_atm = np.arange(49,188)\n",
    "years_atm_str = []\n",
    "for i in years_atm:\n",
    "    years_atm_str.append(f'{i:04d}')\n",
    "\n",
    "atm_dates_expected=years_atm_str"
   ]
  },
  {
   "cell_type": "code",
   "execution_count": null,
   "id": "db2c545d-dd27-41ef-9988-da0a9ece45dd",
   "metadata": {},
   "outputs": [],
   "source": [
    "years_atm_after_spinup = np.arange(81,189)\n",
    "years_atm_after_spinup_str = []\n",
    "for i in years_atm_after_spinup:\n",
    "    years_atm_after_spinup_str.append(f'{i:04d}')\n",
    "\n",
    "atm_dates_expected_daily=years_atm_after_spinup_str"
   ]
  },
  {
   "cell_type": "code",
   "execution_count": null,
   "id": "500e8f5e-3288-4bdb-a497-1b5be44cd7af",
   "metadata": {
    "tags": []
   },
   "outputs": [],
   "source": [
    "# Check atm h0\n",
    "for casename in casenames:\n",
    "    atm_path = basedir+casename+'/atm/hist/'\n",
    "    print(casename)\n",
    "    for yr in atm_h0_dates_expected:\n",
    "        for m in ['01','02','03','04','05','06','07','08','09','10','11','12']:\n",
    "            fname=casename+'.cam.h0.'+yr+'-'+m+'.nc'\n",
    "            if os.path.isfile(atm_path+fname):\n",
    "            #    ds = xr.open_dataset(atm_path+fname)\n",
    "                ds_size = np.size(ds.time)\n",
    "            #    if ds_size!=1:\n",
    "            #        print('>>> '+ fname+' (size='+str(ds_size)+')')\n",
    "            else:\n",
    "                print(fname+' does not exist')"
   ]
  },
  {
   "cell_type": "code",
   "execution_count": null,
   "id": "4371c806-5a06-49cd-bfc9-7a50fa361972",
   "metadata": {
    "tags": []
   },
   "outputs": [],
   "source": [
    "# Check atm h1\n",
    "for casename in casenames:\n",
    "    atm_path = basedir+casename+'/atm/hist/'\n",
    "    print(casename)\n",
    "    for yr in atm_h0_dates_expected:\n",
    "        for m in ['01','02','03','04','05','06','07','08','09','10','11','12']:\n",
    "            fname=casename+'.cam.h1.'+yr+'-'+m+'.nc'\n",
    "            if os.path.isfile(atm_path+fname):\n",
    "            #    ds = xr.open_dataset(atm_path+fname)\n",
    "                ds_size = np.size(ds.time)\n",
    "            #    if ds_size!=1:\n",
    "            #        print('>>> '+ fname+' (size='+str(ds_size)+')')\n",
    "            else:\n",
    "                print(fname+' does not exist')"
   ]
  },
  {
   "cell_type": "code",
   "execution_count": null,
   "id": "9c39696d-5cdd-417e-b382-39b32db991e0",
   "metadata": {
    "tags": []
   },
   "outputs": [],
   "source": [
    "# Check atm h2\n",
    "for casename in casenames:\n",
    "    atm_path = basedir+casename+'/atm/hist/'\n",
    "    print(casename)\n",
    "    for yr in atm_dates_expected_daily:\n",
    "        fname=casename+'.cam.h2.'+yr+'-01-02-00000.nc'\n",
    "        if os.path.isfile(atm_path+fname):\n",
    "            ds = xr.open_dataset(atm_path+fname)\n",
    "            ds_size = np.size(ds.time)\n",
    "            if ds_size!=365:\n",
    "                print('>>> '+ fname+' (size='+str(ds_size)+')')\n",
    "        else:\n",
    "            print(fname+' does not exist')"
   ]
  },
  {
   "cell_type": "code",
   "execution_count": null,
   "id": "b5be7846-3f3f-442b-953e-e06236d5ec7f",
   "metadata": {},
   "outputs": [],
   "source": []
  }
 ],
 "metadata": {
  "kernelspec": {
   "display_name": "Pangeo (Python 3.6)",
   "language": "python",
   "name": "pangeo-3.6"
  },
  "language_info": {
   "codemirror_mode": {
    "name": "ipython",
    "version": 3
   },
   "file_extension": ".py",
   "mimetype": "text/x-python",
   "name": "python",
   "nbconvert_exporter": "python",
   "pygments_lexer": "ipython3",
   "version": "3.6.7"
  }
 },
 "nbformat": 4,
 "nbformat_minor": 5
}
