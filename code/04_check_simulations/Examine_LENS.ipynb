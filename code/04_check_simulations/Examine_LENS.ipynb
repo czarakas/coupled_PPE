{
 "cells": [
  {
   "cell_type": "markdown",
   "id": "0355cb64-a000-4ae4-8485-e145bd4ea4dc",
   "metadata": {},
   "source": [
    "Use CMIP6 2019.10a environment"
   ]
  },
  {
   "cell_type": "markdown",
   "id": "4ab14aea-24d8-4258-a53b-069f4b0d7c9d",
   "metadata": {},
   "source": [
    "# Set up workspace"
   ]
  },
  {
   "cell_type": "code",
   "execution_count": 23,
   "id": "a8aa9b5f-7d71-48d1-b2f3-c45294cd152a",
   "metadata": {},
   "outputs": [],
   "source": [
    "import sys\n",
    "import dask\n",
    "import intake\n",
    "import matplotlib.pyplot as plt\n",
    "import xarray as xr\n",
    "import numpy as np\n",
    "from distributed import Client"
   ]
  },
  {
   "cell_type": "code",
   "execution_count": 5,
   "id": "51dd7076-89cf-4ed7-a52c-4abfa748693e",
   "metadata": {},
   "outputs": [],
   "source": [
    "# Updated for PBS scheduler\n",
    "# this could go into utils.\n",
    "# By default gets 1 core w/ 25 GB memory\n",
    "def get_ClusterClient(ncores=1, nmem='25GB'):\n",
    "    \"\"\"Code from Daniel Kennedy\"\"\"\n",
    "    import dask\n",
    "    from dask_jobqueue import PBSCluster\n",
    "    from dask.distributed import Client\n",
    "    ncores=ncores\n",
    "    nmem = nmem\n",
    "\n",
    "    cluster = PBSCluster(\n",
    "        cores=ncores, # The number of cores you want\n",
    "        memory=nmem, # Amount of memory\n",
    "        processes=ncores, # How many processes\n",
    "        queue='casper', # The type of queue to utilize (/glade/u/apps/dav/opt/usr/bin/execcasper)\n",
    "        resource_spec='select=1:ncpus='+str(ncores)+':mem='+nmem, # Specify resources\n",
    "        project='UWAS0044', # Input your project ID here\n",
    "        walltime='1:00:00', # Amount of wall time\n",
    "        interface='ib0', # Interface to use\n",
    "    )\n",
    "\n",
    "    client = Client(cluster)\n",
    "    return cluster, client"
   ]
  },
  {
   "cell_type": "code",
   "execution_count": 6,
   "id": "1b554c51-3cc2-4c1f-b251-1d565e3cd5d1",
   "metadata": {},
   "outputs": [],
   "source": [
    "cluster, client = get_ClusterClient()\n",
    "cluster.scale(20)"
   ]
  },
  {
   "cell_type": "code",
   "execution_count": 9,
   "id": "ce703239-3b91-4ce7-83a1-ddcbc3c4ee93",
   "metadata": {},
   "outputs": [
    {
     "data": {
      "text/html": [
       "<table style=\"border: 2px solid white;\">\n",
       "<tr>\n",
       "<td style=\"vertical-align: top; border: 0px solid white\">\n",
       "<h3 style=\"text-align: left;\">Client</h3>\n",
       "<ul style=\"text-align: left; list-style: none; margin: 0; padding: 0;\">\n",
       "  <li><b>Scheduler: </b>tcp://10.12.206.54:46861</li>\n",
       "  <li><b>Dashboard: </b><a href='https://jupyterhub.hpc.ucar.edu/stable/user/czarakas/proxy/{port}/status' target='_blank'>https://jupyterhub.hpc.ucar.edu/stable/user/czarakas/proxy/{port}/status</a>\n",
       "</ul>\n",
       "</td>\n",
       "<td style=\"vertical-align: top; border: 0px solid white\">\n",
       "<h3 style=\"text-align: left;\">Cluster</h3>\n",
       "<ul style=\"text-align: left; list-style:none; margin: 0; padding: 0;\">\n",
       "  <li><b>Workers: </b>20</li>\n",
       "  <li><b>Cores: </b>20</li>\n",
       "  <li><b>Memory: </b>500.00 GB</li>\n",
       "</ul>\n",
       "</td>\n",
       "</tr>\n",
       "</table>"
      ],
      "text/plain": [
       "<Client: 'tcp://10.12.206.54:46861' processes=20 threads=20, memory=500.00 GB>"
      ]
     },
     "execution_count": 9,
     "metadata": {},
     "output_type": "execute_result"
    }
   ],
   "source": [
    "client"
   ]
  },
  {
   "cell_type": "markdown",
   "id": "ed2ceb68-e395-444d-b6a8-fde03948e08a",
   "metadata": {},
   "source": [
    "# Get data"
   ]
  },
  {
   "cell_type": "code",
   "execution_count": 4,
   "id": "e3cc7ba4-ac1d-4280-b2b2-1c245ab4b928",
   "metadata": {},
   "outputs": [
    {
     "name": "stderr",
     "output_type": "stream",
     "text": [
      "/ncar/usr/jupyterhub/envs/cmip6-201910a/lib/python3.7/site-packages/IPython/core/interactiveshell.py:3326: DtypeWarning: Columns (5,6,9) have mixed types. Specify dtype option on import or set low_memory=False.\n",
      "  exec(code_obj, self.user_global_ns, self.user_ns)\n"
     ]
    }
   ],
   "source": [
    "cat = intake.open_esm_datastore(\n",
    "    'glade-cesm2-le.json'\n",
    ")"
   ]
  },
  {
   "cell_type": "code",
   "execution_count": 77,
   "id": "b676a124-0e09-40b9-ac39-4a03d705bebe",
   "metadata": {},
   "outputs": [
    {
     "name": "stderr",
     "output_type": "stream",
     "text": [
      "/ncar/usr/jupyterhub/envs/cmip6-201910a/lib/python3.7/copy.py:282: DtypeWarning: Columns (5,6,9) have mixed types. Specify dtype option on import or set low_memory=False.\n",
      "  y.__setstate__(state)\n"
     ]
    }
   ],
   "source": [
    "subset = cat.search(component='lnd', \n",
    "                    frequency='month_1', \n",
    "                    variable='FPSN')"
   ]
  },
  {
   "cell_type": "code",
   "execution_count": 78,
   "id": "9cccf237-f70d-4ca6-9f35-004baefb8c36",
   "metadata": {
    "tags": []
   },
   "outputs": [],
   "source": [
    "members = np.unique(subset.df.cesm_member_id)"
   ]
  },
  {
   "cell_type": "code",
   "execution_count": 79,
   "id": "b524d42e-976a-4c31-9322-fd8b92a610d4",
   "metadata": {},
   "outputs": [
    {
     "data": {
      "text/plain": [
       "100"
      ]
     },
     "execution_count": 79,
     "metadata": {},
     "output_type": "execute_result"
    }
   ],
   "source": [
    "len(members)"
   ]
  },
  {
   "cell_type": "markdown",
   "id": "5d817ca2-ffec-4c62-91b5-27396dd9e214",
   "metadata": {},
   "source": [
    "# Plot global mean temperature"
   ]
  },
  {
   "cell_type": "code",
   "execution_count": 80,
   "id": "31706791-92c7-4888-b054-f2184340ad1e",
   "metadata": {},
   "outputs": [],
   "source": [
    "ds=xr.open_mfdataset(subset.df[subset.df.cesm_member_id==members[0]].path.values, combine='by_coords')"
   ]
  },
  {
   "cell_type": "code",
   "execution_count": 85,
   "id": "3b4e425e-b1d0-4e72-9eb4-8a2558af8c38",
   "metadata": {},
   "outputs": [],
   "source": [
    "landarea = (ds.area*ds.landfrac)[2,:,:]\n",
    "landweights = landarea/landarea.sum(dim=['lat','lon'])"
   ]
  },
  {
   "cell_type": "code",
   "execution_count": null,
   "id": "59b83cb8-97d1-49b3-b7a4-6fbf9aa5c381",
   "metadata": {},
   "outputs": [],
   "source": [
    "atmweights = ds.gw[0,:]/(ds.gw[0,:].mean(dim='lat'))"
   ]
  },
  {
   "cell_type": "code",
   "execution_count": 90,
   "id": "2b21ff87-494f-42c1-a4a1-d69901e1c92a",
   "metadata": {},
   "outputs": [
    {
     "name": "stdout",
     "output_type": "stream",
     "text": [
      "0\n",
      "1\n",
      "2\n",
      "3\n"
     ]
    },
    {
     "name": "stderr",
     "output_type": "stream",
     "text": [
      "distributed.scheduler - ERROR - Workers don't have promised key: ['tcp://10.12.206.39:44250'], ('where-047ed85238ddcce19a14dfeeb5c1d33f', 17, 0, 0)\n",
      "NoneType: None\n",
      "distributed.scheduler - ERROR - Workers don't have promised key: ['tcp://10.12.206.39:44422'], ('where-047ed85238ddcce19a14dfeeb5c1d33f', 21, 0, 0)\n",
      "NoneType: None\n",
      "distributed.scheduler - ERROR - Workers don't have promised key: ['tcp://10.12.206.39:44422'], ('where-047ed85238ddcce19a14dfeeb5c1d33f', 18, 0, 0)\n",
      "NoneType: None\n",
      "distributed.scheduler - ERROR - Workers don't have promised key: ['tcp://10.12.206.39:44250'], ('where-047ed85238ddcce19a14dfeeb5c1d33f', 20, 0, 0)\n",
      "NoneType: None\n",
      "distributed.scheduler - ERROR - Workers don't have promised key: ['tcp://10.12.206.39:39202'], ('where-047ed85238ddcce19a14dfeeb5c1d33f', 19, 0, 0)\n",
      "NoneType: None\n",
      "distributed.scheduler - ERROR - Workers don't have promised key: ['tcp://10.12.206.39:36289'], ('where-047ed85238ddcce19a14dfeeb5c1d33f', 0, 0, 0)\n",
      "NoneType: None\n",
      "distributed.scheduler - ERROR - Workers don't have promised key: ['tcp://10.12.206.39:44584'], ('where-047ed85238ddcce19a14dfeeb5c1d33f', 2, 0, 0)\n",
      "NoneType: None\n",
      "distributed.scheduler - ERROR - Workers don't have promised key: ['tcp://10.12.206.39:45680'], ('where-047ed85238ddcce19a14dfeeb5c1d33f', 3, 0, 0)\n",
      "NoneType: None\n",
      "distributed.scheduler - ERROR - Workers don't have promised key: ['tcp://10.12.206.54:43109'], ('where-047ed85238ddcce19a14dfeeb5c1d33f', 6, 0, 0)\n",
      "NoneType: None\n",
      "distributed.scheduler - ERROR - Workers don't have promised key: ['tcp://10.12.206.54:43109'], ('where-047ed85238ddcce19a14dfeeb5c1d33f', 21, 0, 0)\n",
      "NoneType: None\n",
      "distributed.scheduler - ERROR - Workers don't have promised key: ['tcp://10.12.206.54:38711'], ('where-047ed85238ddcce19a14dfeeb5c1d33f', 5, 0, 0)\n",
      "NoneType: None\n",
      "distributed.scheduler - ERROR - Workers don't have promised key: ['tcp://10.12.206.54:38711'], ('where-047ed85238ddcce19a14dfeeb5c1d33f', 18, 0, 0)\n",
      "NoneType: None\n",
      "distributed.scheduler - ERROR - Workers don't have promised key: ['tcp://10.12.206.54:37348'], ('where-047ed85238ddcce19a14dfeeb5c1d33f', 4, 0, 0)\n",
      "NoneType: None\n",
      "distributed.scheduler - ERROR - Workers don't have promised key: ['tcp://10.12.206.54:37348'], ('where-047ed85238ddcce19a14dfeeb5c1d33f', 20, 0, 0)\n",
      "NoneType: None\n",
      "ERROR:root:Internal Python error in the inspect module.\n",
      "Below is the traceback from this internal error.\n",
      "\n"
     ]
    },
    {
     "name": "stdout",
     "output_type": "stream",
     "text": [
      "Traceback (most recent call last):\n",
      "  File \"/ncar/usr/jupyterhub/envs/cmip6-201910a/lib/python3.7/site-packages/IPython/core/interactiveshell.py\", line 3326, in run_code\n",
      "    exec(code_obj, self.user_global_ns, self.user_ns)\n",
      "  File \"<ipython-input-90-116beca7bda4>\", line 5, in <module>\n",
      "    ds=xr.open_mfdataset(subset.df[subset.df.cesm_member_id==member].path.values, combine='by_coords')\n",
      "  File \"/ncar/usr/jupyterhub/envs/cmip6-201910a/lib/python3.7/site-packages/xarray/backends/api.py\", line 949, in open_mfdataset\n",
      "    datasets, compat=compat, data_vars=data_vars, coords=coords, join=join\n",
      "  File \"/ncar/usr/jupyterhub/envs/cmip6-201910a/lib/python3.7/site-packages/xarray/core/combine.py\", line 696, in combine_by_coords\n",
      "    join=join,\n",
      "  File \"/ncar/usr/jupyterhub/envs/cmip6-201910a/lib/python3.7/site-packages/xarray/core/merge.py\", line 782, in merge\n",
      "    merge_result = merge_core(dict_like_objects, compat, join, fill_value=fill_value)\n",
      "  File \"/ncar/usr/jupyterhub/envs/cmip6-201910a/lib/python3.7/site-packages/xarray/core/merge.py\", line 544, in merge_core\n",
      "    variables, out_indexes = merge_collected(collected, prioritized, compat=compat)\n",
      "  File \"/ncar/usr/jupyterhub/envs/cmip6-201910a/lib/python3.7/site-packages/xarray/core/merge.py\", line 217, in merge_collected\n",
      "    merged_vars[name] = unique_variable(name, variables, compat)\n",
      "  File \"/ncar/usr/jupyterhub/envs/cmip6-201910a/lib/python3.7/site-packages/xarray/core/merge.py\", line 126, in unique_variable\n",
      "    out = out.compute()\n",
      "  File \"/ncar/usr/jupyterhub/envs/cmip6-201910a/lib/python3.7/site-packages/xarray/core/variable.py\", line 390, in compute\n",
      "    return new.load(**kwargs)\n",
      "  File \"/ncar/usr/jupyterhub/envs/cmip6-201910a/lib/python3.7/site-packages/xarray/core/variable.py\", line 366, in load\n",
      "    self._data = as_compatible_data(self._data.compute(**kwargs))\n",
      "  File \"/ncar/usr/jupyterhub/envs/cmip6-201910a/lib/python3.7/site-packages/dask/base.py\", line 165, in compute\n",
      "    (result,) = compute(self, traverse=False, **kwargs)\n",
      "  File \"/ncar/usr/jupyterhub/envs/cmip6-201910a/lib/python3.7/site-packages/dask/base.py\", line 436, in compute\n",
      "    results = schedule(dsk, keys, **kwargs)\n",
      "  File \"/ncar/usr/jupyterhub/envs/cmip6-201910a/lib/python3.7/site-packages/distributed/client.py\", line 2545, in get\n",
      "    results = self.gather(packed, asynchronous=asynchronous, direct=direct)\n",
      "  File \"/ncar/usr/jupyterhub/envs/cmip6-201910a/lib/python3.7/site-packages/distributed/client.py\", line 1845, in gather\n",
      "    asynchronous=asynchronous,\n",
      "  File \"/ncar/usr/jupyterhub/envs/cmip6-201910a/lib/python3.7/site-packages/distributed/client.py\", line 762, in sync\n",
      "    self.loop, func, *args, callback_timeout=callback_timeout, **kwargs\n",
      "  File \"/ncar/usr/jupyterhub/envs/cmip6-201910a/lib/python3.7/site-packages/distributed/utils.py\", line 330, in sync\n",
      "    e.wait(10)\n",
      "  File \"/ncar/usr/jupyterhub/envs/cmip6-201910a/lib/python3.7/threading.py\", line 552, in wait\n",
      "    signaled = self._cond.wait(timeout)\n",
      "  File \"/ncar/usr/jupyterhub/envs/cmip6-201910a/lib/python3.7/threading.py\", line 300, in wait\n",
      "    gotit = waiter.acquire(True, timeout)\n",
      "KeyboardInterrupt\n",
      "\n",
      "During handling of the above exception, another exception occurred:\n",
      "\n",
      "Traceback (most recent call last):\n",
      "  File \"/ncar/usr/jupyterhub/envs/cmip6-201910a/lib/python3.7/site-packages/IPython/core/interactiveshell.py\", line 2040, in showtraceback\n",
      "    stb = value._render_traceback_()\n",
      "AttributeError: 'KeyboardInterrupt' object has no attribute '_render_traceback_'\n",
      "\n",
      "During handling of the above exception, another exception occurred:\n",
      "\n",
      "Traceback (most recent call last):\n",
      "  File \"/ncar/usr/jupyterhub/envs/cmip6-201910a/lib/python3.7/site-packages/IPython/core/ultratb.py\", line 1101, in get_records\n",
      "    return _fixed_getinnerframes(etb, number_of_lines_of_context, tb_offset)\n",
      "  File \"/ncar/usr/jupyterhub/envs/cmip6-201910a/lib/python3.7/site-packages/IPython/core/ultratb.py\", line 319, in wrapped\n",
      "    return f(*args, **kwargs)\n",
      "  File \"/ncar/usr/jupyterhub/envs/cmip6-201910a/lib/python3.7/site-packages/IPython/core/ultratb.py\", line 353, in _fixed_getinnerframes\n",
      "    records = fix_frame_records_filenames(inspect.getinnerframes(etb, context))\n",
      "  File \"/ncar/usr/jupyterhub/envs/cmip6-201910a/lib/python3.7/inspect.py\", line 1502, in getinnerframes\n",
      "    frameinfo = (tb.tb_frame,) + getframeinfo(tb, context)\n",
      "  File \"/ncar/usr/jupyterhub/envs/cmip6-201910a/lib/python3.7/inspect.py\", line 1460, in getframeinfo\n",
      "    filename = getsourcefile(frame) or getfile(frame)\n",
      "  File \"/ncar/usr/jupyterhub/envs/cmip6-201910a/lib/python3.7/inspect.py\", line 696, in getsourcefile\n",
      "    if getattr(getmodule(object, filename), '__loader__', None) is not None:\n",
      "  File \"/ncar/usr/jupyterhub/envs/cmip6-201910a/lib/python3.7/inspect.py\", line 733, in getmodule\n",
      "    if ismodule(module) and hasattr(module, '__file__'):\n",
      "  File \"/ncar/usr/jupyterhub/envs/cmip6-201910a/lib/python3.7/inspect.py\", line 70, in ismodule\n",
      "    return isinstance(object, types.ModuleType)\n",
      "KeyboardInterrupt\n"
     ]
    },
    {
     "ename": "KeyboardInterrupt",
     "evalue": "",
     "output_type": "error",
     "traceback": [
      "\u001b[0;31m---------------------------------------------------------------------------\u001b[0m"
     ]
    },
    {
     "data": {
      "image/png": "[encoded data removed]",
      "text/plain": [
       "<Figure size 1440x504 with 1 Axes>"
      ]
     },
     "metadata": {
      "needs_background": "light"
     },
     "output_type": "display_data"
    }
   ],
   "source": [
    "plt.figure(figsize=(20,7))\n",
    "for i,member in enumerate(members):\n",
    "    print(i)\n",
    "    years=np.arange(0,3012)/12+1850 \n",
    "    ds=xr.open_mfdataset(subset.df[subset.df.cesm_member_id==member].path.values, combine='by_coords')\n",
    "    globalmean = (ds.FPSN*landweights).sum(dim=['lat','lon'])#(ds.TREFHT*atmweights).mean(dim=['lat','lon'])-273.15\n",
    "    plt.plot(years,globalmean.rolling(time=12).mean(),\n",
    "             '-k',linewidth=1, alpha=0.1)\n",
    "plt.grid()"
   ]
  },
  {
   "cell_type": "code",
   "execution_count": null,
   "id": "e09a9d2d-a1cb-467f-a20d-2c4920a88c5e",
   "metadata": {},
   "outputs": [],
   "source": [
    "#dsets = subset.to_dataset_dict(cdf_kwargs={'chunks': {'time': 5}})\n",
    "#dsets#.keys()"
   ]
  }
 ],
 "metadata": {
  "kernelspec": {
   "display_name": "CMIP6 2019.10a",
   "language": "python",
   "name": "cmip6-201910a"
  },
  "language_info": {
   "codemirror_mode": {
    "name": "ipython",
    "version": 3
   },
   "file_extension": ".py",
   "mimetype": "text/x-python",
   "name": "python",
   "nbconvert_exporter": "python",
   "pygments_lexer": "ipython3",
   "version": "3.7.3"
  }
 },
 "nbformat": 4,
 "nbformat_minor": 5
}
