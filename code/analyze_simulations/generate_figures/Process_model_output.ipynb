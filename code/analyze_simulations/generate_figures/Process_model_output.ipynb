{
 "cells": [
  {
   "cell_type": "markdown",
   "id": "5ddd0207-b2b3-4f30-be9f-27e33ffb3ff7",
   "metadata": {
    "tags": []
   },
   "source": [
    "# Set up workspace"
   ]
  },
  {
   "cell_type": "code",
   "execution_count": 1,
   "id": "48d49068-71f2-43f8-931a-92ee202f5005",
   "metadata": {},
   "outputs": [],
   "source": [
    "import xarray as xr\n",
    "import matplotlib.pyplot as plt\n",
    "import numpy as np\n",
    "import glob\n",
    "import pandas as pd\n",
    "from scipy.stats import ttest_ind\n",
    "from cartopy.util import add_cyclic_point\n",
    "import cartopy.crs as ccrs\n",
    "#from eofs.xarray import Eof "
   ]
  },
  {
   "cell_type": "code",
   "execution_count": 2,
   "id": "2bb1c26b-ef2c-445f-a33d-44abf5bafd81",
   "metadata": {},
   "outputs": [],
   "source": [
    "import cftime\n",
    "import scipy"
   ]
  },
  {
   "cell_type": "code",
   "execution_count": 3,
   "id": "5083ebbb-3fbf-4e72-b5a4-2530d2809861",
   "metadata": {},
   "outputs": [],
   "source": [
    "import sys\n",
    "sys.path.append('/glade/u/home/czarakas/coupled_PPE/code/utils')\n",
    "\n",
    "import make_multisimulation_dataset"
   ]
  },
  {
   "cell_type": "code",
   "execution_count": 4,
   "id": "b4ca501d-5572-4fb4-b629-930a23667e34",
   "metadata": {},
   "outputs": [],
   "source": [
    "from load_ensembles import *\n",
    "import quick_map"
   ]
  },
  {
   "cell_type": "code",
   "execution_count": 5,
   "id": "2dba4f31-421d-4ad4-910a-a84a6f0cc3c1",
   "metadata": {},
   "outputs": [],
   "source": [
    "#path_out='/glade/work/czarakas/coupled_PPE/data/data_for_figures/'\n",
    "path_out='~/coupled_PPE/data/processed_data_for_figures/'"
   ]
  },
  {
   "cell_type": "markdown",
   "id": "50cc822f-b8e5-407c-8650-86c0b7c38402",
   "metadata": {
    "tags": []
   },
   "source": [
    "# Load data"
   ]
  },
  {
   "cell_type": "markdown",
   "id": "872dd686-ea62-4d30-9547-1cc85b1b2581",
   "metadata": {
    "tags": []
   },
   "source": [
    "### Define variables to load"
   ]
  },
  {
   "cell_type": "code",
   "execution_count": 6,
   "id": "fe32b15c-17f4-4c8d-bbac-8da82e84f952",
   "metadata": {},
   "outputs": [],
   "source": [
    "var='TSKIN'\n",
    "domain='lnd'\n",
    "ensemble='coupled'\n",
    "season='Annual'"
   ]
  },
  {
   "cell_type": "code",
   "execution_count": 7,
   "id": "4800a335-c08c-4fde-b029-95173049feb7",
   "metadata": {},
   "outputs": [],
   "source": [
    "end_spinup=40"
   ]
  },
  {
   "cell_type": "markdown",
   "id": "6f0a33f9-30e2-42a4-8b0c-24870ad9d904",
   "metadata": {
    "tags": []
   },
   "source": [
    "### Load full ensemble data"
   ]
  },
  {
   "cell_type": "code",
   "execution_count": 8,
   "id": "89cffa50-8e0a-457c-ab8c-373af74acdae",
   "metadata": {
    "collapsed": true,
    "jupyter": {
     "outputs_hidden": true
    },
    "tags": []
   },
   "outputs": [
    {
     "name": "stderr",
     "output_type": "stream",
     "text": [
      "/glade/u/home/czarakas/coupled_PPE/code/utils/load_ensembles.py:46: FutureWarning: In xarray version 0.15 the default behaviour of `open_mfdataset`\n",
      "will change. To retain the existing behavior, pass\n",
      "combine='nested'. To use future default behavior, pass\n",
      "combine='by_coords'. See\n",
      "http://xarray.pydata.org/en/stable/combining.html#combining-multi\n",
      "\n",
      "  ds = xr.open_mfdataset(fpath)\n",
      "/glade/u/home/czarakas/.conda/envs/EOF_env/lib/python3.7/site-packages/xarray/backends/api.py:941: FutureWarning: The datasets supplied have global dimension coordinates. You may want\n",
      "to use the new `combine_by_coords` function (or the\n",
      "`combine='by_coords'` option to `open_mfdataset`) to order the datasets\n",
      "before concatenation. Alternatively, to continue concatenating based\n",
      "on the order the datasets are supplied in future, please use the new\n",
      "`combine_nested` function (or the `combine='nested'` option to\n",
      "open_mfdataset).\n",
      "  from_openmfds=True,\n"
     ]
    }
   ],
   "source": [
    "if ensemble=='coupled':\n",
    "    ensemble_coupled = load_coupled_ensemble(var=var, domain=domain, printon=False)\n",
    "elif ensemble=='offline':\n",
    "    ensemble_coupled = load_offline_ensemble(var=var, domain=domain, printon=False)"
   ]
  },
  {
   "cell_type": "code",
   "execution_count": 9,
   "id": "8292bc9d-159f-4ceb-8287-411d4efbad7a",
   "metadata": {
    "tags": []
   },
   "outputs": [],
   "source": [
    "if ensemble=='offline':\n",
    "    ensemble_path='offline_simulations'\n",
    "    refcase_id='OFFL0000_PI_v02'\n",
    "elif ensemble=='coupled':\n",
    "    ensemble_path='coupled_simulations'\n",
    "    refcase_id='COUP0000_PI_SOM'\n",
    "if domain=='atm':\n",
    "    domain_suffix='.cam.h0.'\n",
    "elif domain=='lnd':\n",
    "    domain_suffix='.clm2.h0.'\n",
    "    \n",
    "basecase_lnd=xr.open_dataset('/glade/campaign/cgd/tss/czarakas/CoupledPPE/'+ensemble_path+'/'+\n",
    "                                 refcase_id+'/'+domain+'/proc/tseries/'+refcase_id+domain_suffix+'timeseries.'+var+'.nc')"
   ]
  },
  {
   "cell_type": "markdown",
   "id": "4a66f169-7867-4874-8e2e-aa13e75807b2",
   "metadata": {
    "tags": []
   },
   "source": [
    "### Define function for calculating annual averages based on days per year"
   ]
  },
  {
   "cell_type": "code",
   "execution_count": 10,
   "id": "c2ec2dee-1751-40d9-bc09-cb09b46fe7de",
   "metadata": {},
   "outputs": [],
   "source": [
    "dpm = {'noleap': [0, 31, 28, 31, 30, 31, 30, 31, 31, 30, 31, 30, 31],\n",
    "       '365_day': [0, 31, 28, 31, 30, 31, 30, 31, 31, 30, 31, 30, 31],\n",
    "       'standard': [0, 31, 28, 31, 30, 31, 30, 31, 31, 30, 31, 30, 31],\n",
    "       'gregorian': [0, 31, 28, 31, 30, 31, 30, 31, 31, 30, 31, 30, 31],\n",
    "       'proleptic_gregorian': [0, 31, 28, 31, 30, 31, 30, 31, 31, 30, 31, 30, 31],\n",
    "       'all_leap': [0, 31, 29, 31, 30, 31, 30, 31, 31, 30, 31, 30, 31],\n",
    "       '366_day': [0, 31, 29, 31, 30, 31, 30, 31, 31, 30, 31, 30, 31],\n",
    "       '360_day': [0, 30, 30, 30, 30, 30, 30, 30, 30, 30, 30, 30, 30]}\n",
    "\n",
    "def get_dpm(time, calendar='standard'):\n",
    "    \"\"\"\n",
    "    return a array of days per month corresponding to the months provided in `months`\n",
    "    \"\"\"\n",
    "    month_length = np.zeros(len(time), dtype=np.int)\n",
    "\n",
    "    cal_days = dpm[calendar]\n",
    "\n",
    "    for i, (month, year) in enumerate(zip(time.month, time.year)):\n",
    "        month_length[i] = cal_days[month]\n",
    "    return month_length"
   ]
  },
  {
   "cell_type": "code",
   "execution_count": 11,
   "id": "634a1f76-3cf1-4656-8aa6-9e5150cac4b2",
   "metadata": {
    "tags": []
   },
   "outputs": [],
   "source": [
    "ds=basecase_lnd\n",
    "month_length = xr.DataArray(get_dpm(ds.time.to_index(),\n",
    "                                      calendar='noleap'),\n",
    "                              coords=[ds.time], name='month_length')\n",
    "\n",
    "numyears=np.size(ds.time.groupby('time.year').mean(dim='time').year)"
   ]
  },
  {
   "cell_type": "code",
   "execution_count": 12,
   "id": "38106f18-002c-4206-95c5-94f1b688267f",
   "metadata": {
    "tags": []
   },
   "outputs": [],
   "source": [
    "# Calculate the weights by grouping by 'time.season'.\n",
    "# Conversion to float type ('astype(float)') only necessary for Python 2.x\n",
    "weights = month_length.groupby('time.year') / month_length.astype(float).groupby('time.year').sum()\n",
    "\n",
    "# Test that the sum of the weights for each season is 1.0\n",
    "#weights.groupby('time.month').sum().values\n",
    "np.testing.assert_allclose(weights.groupby('time.year').sum().values, np.ones(numyears))\n",
    "\n",
    "# Calculate the weighted average\n",
    "ds_weighted = (ds[var] * weights).groupby('time.year').sum(dim='time')"
   ]
  },
  {
   "cell_type": "code",
   "execution_count": 13,
   "id": "d8f88c29-d06e-45e4-a896-655856e18c58",
   "metadata": {},
   "outputs": [],
   "source": [
    "def calculate_annual_timeseries(da, season='Annual',\n",
    "                               end_spinup=0):\n",
    "    month_length = xr.DataArray(get_dpm(ds.time.to_index(),\n",
    "                                      calendar='noleap'),\n",
    "                              coords=[ds.time], name='month_length')\n",
    "    \n",
    "    numyears=np.size(ds.time.groupby('time.year').mean(dim='time'))\n",
    "    \n",
    "    if season=='Annual':\n",
    "        weights = month_length.groupby('time.year') / month_length.astype(float).groupby('time.year').sum()\n",
    "        \n",
    "        # Test that the sum of the weights for each year is 1.0\n",
    "        np.testing.assert_allclose(weights.groupby('time.year').sum().values, np.ones(numyears))\n",
    "    \n",
    "        # Calculate the weighted average\n",
    "        da_weighted = (da * weights).groupby('time.year').sum(dim='time')\n",
    "        \n",
    "        this_ensemble_tseries=da_weighted[end_spinup:,:,:]\n",
    "    else:\n",
    "        months_filtered = month_length.where(month_length['time.season']==season)\n",
    "        weights = months_filtered.groupby('time.year') / months_filtered.astype(float).groupby('time.year').sum()\n",
    "        \n",
    "        # Test that the sum of the weights for each season is 1.0\n",
    "        np.testing.assert_allclose(weights.groupby('time.year').sum().values, np.ones(numyears))\n",
    "        \n",
    "        da_weighted = (da * weights).groupby('time.year').sum(dim='time')\n",
    "        this_ensemble_tseries=da_weighted[end_spinup:,:,:]\n",
    "        \n",
    "    return this_ensemble_tseries\n",
    "    "
   ]
  },
  {
   "cell_type": "markdown",
   "id": "42aed1c2-af2f-4ba1-a71d-6a5fc7eb31f8",
   "metadata": {
    "tags": []
   },
   "source": [
    "### Check ensemble"
   ]
  },
  {
   "cell_type": "code",
   "execution_count": 17,
   "id": "cada195b-20c4-4133-8a6c-421b1011c67d",
   "metadata": {
    "collapsed": true,
    "jupyter": {
     "outputs_hidden": true
    },
    "tags": []
   },
   "outputs": [
    {
     "data": {
      "text/html": [
       "<pre>&lt;xarray.Dataset&gt;\n",
       "Dimensions:      (hist_interval: 2, lat: 96, lon: 144, time: 1680)\n",
       "Coordinates:\n",
       "  * time         (time) object 0049-01-16 12:00:00 ... 0188-12-16 12:00:00\n",
       "  * lon          (lon) float32 0.0 2.5 5.0 7.5 10.0 ... 350.0 352.5 355.0 357.5\n",
       "  * lat          (lat) float32 -90.0 -88.10526 -86.210526 ... 88.10526 90.0\n",
       "Dimensions without coordinates: hist_interval\n",
       "Data variables:\n",
       "    time_bounds  (time, hist_interval) object dask.array&lt;chunksize=(1680, 2), meta=np.ndarray&gt;\n",
       "    TSKIN        (time, lat, lon) float32 dask.array&lt;chunksize=(1680, 96, 144), meta=np.ndarray&gt;\n",
       "    var          (time, lat, lon) float32 dask.array&lt;chunksize=(1680, 96, 144), meta=np.ndarray&gt;\n",
       "Attributes:\n",
       "    title:                                     CLM History file information\n",
       "    comment:                                   NOTE: None of the variables ar...\n",
       "    Conventions:                               CF-1.0\n",
       "    history:                                   Fri Jul  8 20:44:13 2022: ncrc...\n",
       "    source:                                    Community Terrestrial Systems ...\n",
       "    hostname:                                  cheyenne\n",
       "    username:                                  czarakas\n",
       "    version:                                   cesm2.2.0\n",
       "    revision_id:                               $Id: histFileMod.F90 42903 201...\n",
       "    case_title:                                UNSET\n",
       "    case_id:                                   COUP0006_PI_SOM_v02\n",
       "    Surface_dataset:                           surfdata_1.9x2.5_hist_16pfts_I...\n",
       "    Initial_conditions_dataset:                arbitrary initialization\n",
       "    PFT_physiological_constants_dataset:       OAAT0034.nc\n",
       "    ltype_vegetated_or_bare_soil:              1\n",
       "    ltype_crop:                                2\n",
       "    ltype_UNUSED:                              3\n",
       "    ltype_landice_multiple_elevation_classes:  4\n",
       "    ltype_deep_lake:                           5\n",
       "    ltype_wetland:                             6\n",
       "    ltype_urban_tbd:                           7\n",
       "    ltype_urban_hd:                            8\n",
       "    ltype_urban_md:                            9\n",
       "    ctype_vegetated_or_bare_soil:              1\n",
       "    ctype_crop:                                2\n",
       "    ctype_crop_noncompete:                     2*100+m, m=cft_lb,cft_ub\n",
       "    ctype_landice:                             3\n",
       "    ctype_landice_multiple_elevation_classes:  4*100+m, m=1,glcnec\n",
       "    ctype_deep_lake:                           5\n",
       "    ctype_wetland:                             6\n",
       "    ctype_urban_roof:                          71\n",
       "    ctype_urban_sunwall:                       72\n",
       "    ctype_urban_shadewall:                     73\n",
       "    ctype_urban_impervious_road:               74\n",
       "    ctype_urban_pervious_road:                 75\n",
       "    cft_c3_crop:                               1\n",
       "    cft_c3_irrigated:                          2\n",
       "    time_period_freq:                          month_1\n",
       "    Time_constant_3Dvars_filename:             ./COUP0006_PI_SOM_v02.clm2.h3....\n",
       "    Time_constant_3Dvars:                      ZSOI:DZSOI:WATSAT:SUCSAT:BSW:H...\n",
       "    NCO:                                       netCDF Operators version 5.0.3...</pre>"
      ],
      "text/plain": [
       "<xarray.Dataset>\n",
       "Dimensions:      (hist_interval: 2, lat: 96, lon: 144, time: 1680)\n",
       "Coordinates:\n",
       "  * time         (time) object 0049-01-16 12:00:00 ... 0188-12-16 12:00:00\n",
       "  * lon          (lon) float32 0.0 2.5 5.0 7.5 10.0 ... 350.0 352.5 355.0 357.5\n",
       "  * lat          (lat) float32 -90.0 -88.10526 -86.210526 ... 88.10526 90.0\n",
       "Dimensions without coordinates: hist_interval\n",
       "Data variables:\n",
       "    time_bounds  (time, hist_interval) object dask.array<chunksize=(1680, 2), meta=np.ndarray>\n",
       "    TSKIN        (time, lat, lon) float32 dask.array<chunksize=(1680, 96, 144), meta=np.ndarray>\n",
       "    var          (time, lat, lon) float32 dask.array<chunksize=(1680, 96, 144), meta=np.ndarray>\n",
       "Attributes:\n",
       "    title:                                     CLM History file information\n",
       "    comment:                                   NOTE: None of the variables ar...\n",
       "    Conventions:                               CF-1.0\n",
       "    history:                                   Fri Jul  8 20:44:13 2022: ncrc...\n",
       "    source:                                    Community Terrestrial Systems ...\n",
       "    hostname:                                  cheyenne\n",
       "    username:                                  czarakas\n",
       "    version:                                   cesm2.2.0\n",
       "    revision_id:                               $Id: histFileMod.F90 42903 201...\n",
       "    case_title:                                UNSET\n",
       "    case_id:                                   COUP0006_PI_SOM_v02\n",
       "    Surface_dataset:                           surfdata_1.9x2.5_hist_16pfts_I...\n",
       "    Initial_conditions_dataset:                arbitrary initialization\n",
       "    PFT_physiological_constants_dataset:       OAAT0034.nc\n",
       "    ltype_vegetated_or_bare_soil:              1\n",
       "    ltype_crop:                                2\n",
       "    ltype_UNUSED:                              3\n",
       "    ltype_landice_multiple_elevation_classes:  4\n",
       "    ltype_deep_lake:                           5\n",
       "    ltype_wetland:                             6\n",
       "    ltype_urban_tbd:                           7\n",
       "    ltype_urban_hd:                            8\n",
       "    ltype_urban_md:                            9\n",
       "    ctype_vegetated_or_bare_soil:              1\n",
       "    ctype_crop:                                2\n",
       "    ctype_crop_noncompete:                     2*100+m, m=cft_lb,cft_ub\n",
       "    ctype_landice:                             3\n",
       "    ctype_landice_multiple_elevation_classes:  4*100+m, m=1,glcnec\n",
       "    ctype_deep_lake:                           5\n",
       "    ctype_wetland:                             6\n",
       "    ctype_urban_roof:                          71\n",
       "    ctype_urban_sunwall:                       72\n",
       "    ctype_urban_shadewall:                     73\n",
       "    ctype_urban_impervious_road:               74\n",
       "    ctype_urban_pervious_road:                 75\n",
       "    cft_c3_crop:                               1\n",
       "    cft_c3_irrigated:                          2\n",
       "    time_period_freq:                          month_1\n",
       "    Time_constant_3Dvars_filename:             ./COUP0006_PI_SOM_v02.clm2.h3....\n",
       "    Time_constant_3Dvars:                      ZSOI:DZSOI:WATSAT:SUCSAT:BSW:H...\n",
       "    NCO:                                       netCDF Operators version 5.0.3..."
      ]
     },
     "execution_count": 17,
     "metadata": {},
     "output_type": "execute_result"
    }
   ],
   "source": [
    "ensemble_coupled[-3]#.FSH"
   ]
  },
  {
   "cell_type": "code",
   "execution_count": 15,
   "id": "567e5a09-5925-4755-bb99-f90207b0f2c6",
   "metadata": {},
   "outputs": [
    {
     "data": {
      "text/plain": [
       "143.0"
      ]
     },
     "execution_count": 15,
     "metadata": {},
     "output_type": "execute_result"
    }
   ],
   "source": [
    "1716/12"
   ]
  },
  {
   "cell_type": "code",
   "execution_count": 18,
   "id": "5f93296e-0e26-4f5b-967a-f0add12759ae",
   "metadata": {},
   "outputs": [],
   "source": [
    "ensemble_coupled[-1]=ensemble_coupled[-1].sel(time=slice('0049-01-16', '0188-12-16'))"
   ]
  },
  {
   "cell_type": "code",
   "execution_count": 19,
   "id": "d6bd9518-57d8-4246-ac6d-ad35f49c30f9",
   "metadata": {
    "tags": []
   },
   "outputs": [],
   "source": [
    "expected_start_time=cftime.DatetimeNoLeap(49,1,16,12)\n",
    "expected_end_time=cftime.DatetimeNoLeap(188,12,16,12)\n",
    "for i,ds in enumerate(ensemble_coupled):\n",
    "    #print(i)\n",
    "    #print(ds.case_id)\n",
    "    if np.size(ds.time)!=1680:\n",
    "        print(ds.case_id)\n",
    "        print('!!!!! Time size is wrong dimension')\n",
    "    if ds.time.values[0] != expected_start_time:\n",
    "        print(ds.time.values[0])\n",
    "    if ds.time.values[-1] != expected_end_time:\n",
    "        print(ds.time.values[-1])\n",
    "    #print('----------')"
   ]
  },
  {
   "cell_type": "markdown",
   "id": "8992b3d6-044c-443d-88cc-075ee4d0d2d0",
   "metadata": {
    "tags": []
   },
   "source": [
    "# Make datasets with all data"
   ]
  },
  {
   "cell_type": "code",
   "execution_count": 20,
   "id": "d23fafc8-d7de-4d13-bc47-b1b9adfae44f",
   "metadata": {
    "tags": []
   },
   "outputs": [
    {
     "name": "stderr",
     "output_type": "stream",
     "text": [
      "/glade/u/home/czarakas/.conda/envs/EOF_env/lib/python3.7/site-packages/dask/array/numpy_compat.py:40: RuntimeWarning: invalid value encountered in true_divide\n",
      "  x = np.divide(x1, x2, out)\n"
     ]
    }
   ],
   "source": [
    "# Define grid for dataset\n",
    "ds_grid = ensemble_coupled[0]\n",
    "\n",
    "# Make data arrays\n",
    "var_array_1time = make_multisimulation_dataset.make_empty_dataarray(ds_grid=ds_grid, var=var, keys=keys)\n",
    "\n",
    "var_array=var_array_1time.expand_dims({\"time\": ds_grid.time[end_spinup*12:]},axis=0).copy()"
   ]
  },
  {
   "cell_type": "code",
   "execution_count": null,
   "id": "c627c08c-eb23-47b9-9995-c3df894f92cc",
   "metadata": {
    "tags": []
   },
   "outputs": [
    {
     "name": "stdout",
     "output_type": "stream",
     "text": [
      "0\n",
      "1\n",
      "2\n",
      "3\n",
      "4\n",
      "5\n",
      "6\n",
      "7\n",
      "8\n",
      "9\n",
      "10\n",
      "11\n",
      "12\n",
      "13\n",
      "14\n",
      "15\n",
      "16\n",
      "17\n",
      "18\n",
      "19\n",
      "20\n",
      "21\n",
      "22\n",
      "23\n",
      "24\n",
      "25\n",
      "26\n",
      "27\n"
     ]
    }
   ],
   "source": [
    "# Put data in data arrays\n",
    "for i, ds in enumerate(ensemble_coupled):\n",
    "    print(i)\n",
    "    var_array[:,:,:,i]=ds[var][end_spinup*12:,:,:]"
   ]
  },
  {
   "cell_type": "code",
   "execution_count": null,
   "id": "ac3e3b1d-83e2-4aff-b910-8c05c8cad5fa",
   "metadata": {},
   "outputs": [],
   "source": [
    "var_ref_annual=calculate_annual_timeseries(basecase_lnd[var][end_spinup*12:,:,:],season=season)\n",
    "var_ref_mean=var_ref_annual.mean(dim='year')\n",
    "ds_ref=var_ref_mean.to_dataset(name=var)"
   ]
  },
  {
   "cell_type": "code",
   "execution_count": null,
   "id": "106a75df-20c6-47dc-909d-149f29b10d92",
   "metadata": {
    "tags": []
   },
   "outputs": [],
   "source": [
    "var_array_annual=calculate_annual_timeseries(var_array,season=season)\n",
    "var_array_mean=var_array_annual.mean(dim='year')\n",
    "ds_mean=var_array_mean.to_dataset(name=var)"
   ]
  },
  {
   "cell_type": "code",
   "execution_count": null,
   "id": "1190d02c-1b11-4720-856e-15ae6e4b780d",
   "metadata": {},
   "outputs": [],
   "source": [
    "var_array_delta=var_array_mean-var_ref_mean\n",
    "ds_delta=var_array_delta.to_dataset(name=var)"
   ]
  },
  {
   "cell_type": "code",
   "execution_count": null,
   "id": "4f47cbae-5d6f-4e9c-9f8b-7bb6cf6847c7",
   "metadata": {},
   "outputs": [],
   "source": [
    "fname=var+'_'+season+'_mean_'+ensemble+'.nc'\n",
    "ds_mean.to_netcdf(path_out+fname)\n",
    "\n",
    "fname='ref_'+var+'_'+season+'_mean_'+ensemble+'.nc'\n",
    "ds_ref.to_netcdf(path_out+fname)\n",
    "\n",
    "fname='delta_'+var+'_'+season+'_mean+'+ensemble+'.nc'\n",
    "ds_delta.to_netcdf(path_out+fname)"
   ]
  },
  {
   "cell_type": "markdown",
   "id": "14f7e5fd-6fc1-4f58-8ba6-fb315d806bf9",
   "metadata": {
    "tags": []
   },
   "source": [
    "# Calculate where changes are significant"
   ]
  },
  {
   "cell_type": "code",
   "execution_count": 23,
   "id": "33e828e8-46a2-4007-a443-71112c5281bb",
   "metadata": {},
   "outputs": [
    {
     "name": "stderr",
     "output_type": "stream",
     "text": [
      "/glade/u/home/czarakas/.conda/envs/EOF_env/lib/python3.7/site-packages/dask/array/numpy_compat.py:40: RuntimeWarning: invalid value encountered in true_divide\n",
      "  x = np.divide(x1, x2, out)\n",
      "/glade/u/home/czarakas/.conda/envs/EOF_env/lib/python3.7/site-packages/dask/array/numpy_compat.py:40: RuntimeWarning: invalid value encountered in true_divide\n",
      "  x = np.divide(x1, x2, out)\n"
     ]
    }
   ],
   "source": [
    "ds_grid = ensemble_coupled[0]\n",
    "\n",
    "var_array_ttest = make_multisimulation_dataset.make_empty_dataarray(ds_grid=ds_grid, var=var, keys=keys)\n",
    "var_array_pval = make_multisimulation_dataset.make_empty_dataarray(ds_grid=ds_grid, var=var, keys=keys)"
   ]
  },
  {
   "cell_type": "code",
   "execution_count": 24,
   "id": "190c5efa-8eb7-4166-a2ab-129747cb083c",
   "metadata": {
    "tags": []
   },
   "outputs": [
    {
     "name": "stderr",
     "output_type": "stream",
     "text": [
      "/glade/u/home/czarakas/.conda/envs/EOF_env/lib/python3.7/site-packages/scipy/stats/_distn_infrastructure.py:903: RuntimeWarning: invalid value encountered in greater\n",
      "  return (a < x) & (x < b)\n",
      "/glade/u/home/czarakas/.conda/envs/EOF_env/lib/python3.7/site-packages/scipy/stats/_distn_infrastructure.py:903: RuntimeWarning: invalid value encountered in less\n",
      "  return (a < x) & (x < b)\n",
      "/glade/u/home/czarakas/.conda/envs/EOF_env/lib/python3.7/site-packages/scipy/stats/_distn_infrastructure.py:1912: RuntimeWarning: invalid value encountered in less_equal\n",
      "  cond2 = cond0 & (x <= _a)\n"
     ]
    }
   ],
   "source": [
    "for i, ds in enumerate(ensemble_coupled):\n",
    "    ds_annual=var_array_annual[:,:,:,i]\n",
    "    [tstat, pval] = scipy.stats.ttest_ind(var_ref_annual, ds_annual, equal_var=False)#, alternative='two-sided')\n",
    "    var_array_ttest[:,:,i]=tstat\n",
    "    var_array_pval[:,:,i]=pval"
   ]
  },
  {
   "cell_type": "code",
   "execution_count": 25,
   "id": "fc555b78-6185-4c28-8676-da4798993b5d",
   "metadata": {},
   "outputs": [],
   "source": [
    "ds_pval=var_array_pval.to_dataset(name='pval')\n",
    "\n",
    "fname='pval_'+var+'_'+season+'_mean_'+ensemble+'.nc'\n",
    "ds_pval.to_netcdf(path_out+fname)"
   ]
  }
 ],
 "metadata": {
  "kernelspec": {
   "display_name": "Python [conda env:.conda-EOF_env]",
   "language": "python",
   "name": "conda-env-.conda-EOF_env-py"
  },
  "language_info": {
   "codemirror_mode": {
    "name": "ipython",
    "version": 3
   },
   "file_extension": ".py",
   "mimetype": "text/x-python",
   "name": "python",
   "nbconvert_exporter": "python",
   "pygments_lexer": "ipython3",
   "version": "3.7.2"
  }
 },
 "nbformat": 4,
 "nbformat_minor": 5
}
