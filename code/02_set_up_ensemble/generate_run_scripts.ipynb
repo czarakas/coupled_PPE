{
 "cells": [
  {
   "cell_type": "code",
   "execution_count": 1,
   "id": "dc7facba-cf7d-4b7f-ac50-7de09a2f4960",
   "metadata": {},
   "outputs": [],
   "source": [
    "import datetime\n",
    "import pandas as pd\n",
    "import numpy as np"
   ]
  },
  {
   "cell_type": "markdown",
   "id": "bbbf48cd-aefe-4b1a-b8cf-7bc19b4532e5",
   "metadata": {},
   "source": [
    "# Define the directories that should be used"
   ]
  },
  {
   "cell_type": "code",
   "execution_count": 2,
   "id": "0d576990-5310-48de-b11f-9113e5d746f5",
   "metadata": {},
   "outputs": [],
   "source": [
    "# Source code to use to run model\n",
    "my_sourcecode=\"/glade/u/home/czarakas/cesm_source/cesm_coupled_PPEn11\"\n",
    "\n",
    "# Where you want to put the new folder for the case (where you change things like the \n",
    "# namelist, how long to run it, then do case.build, case.submit etc.)\n",
    "# --- AMY change this\n",
    "my_casedir=\"/glade/u/home/czarakas/cesm_cases/coupled_PPE\"\n",
    "\n",
    "# Where the output of the runs should be archived\n",
    "# probably /glade/scratch/USERNAME/archive/\n",
    "# --- AMY change this\n",
    "my_archivedir = \"/glade/scratch/czarakas/archive/\"\n",
    "\n",
    "# Where to put the run folder (where log files will go, etc.)\n",
    "# probably /glade/scratch/USERNAME\n",
    "# --- AMY change this\n",
    "my_rundir = \"/glade/scratch/czarakas\"\n",
    "\n",
    "# Where you want to save the runscripts that this script will generate\n",
    "# this can be anything, just make sure the folder exists!\n",
    "# --- AMY change this\n",
    "runscript_path = \"/glade/u/home/czarakas/coupled_PPE/code/run_scripts/\"\n",
    "\n",
    "# Where to find ensemble member parameter files\n",
    "# (don't change this unless Daniel changes where these are)\n",
    "paramfile_path = \"/glade/scratch/djk2120/PPEn11/paramfiles/\"\n",
    "\n",
    "# Where to find ensemble member namelist files\n",
    "#(don't change this unless Daniel changes where these are)\n",
    "namelistmod_path = \"/glade/scratch/djk2120/PPEn11/namelist_mods/\"\n",
    "\n",
    "# The template to use to make the runscripts\n",
    "filein='run_script_TEMPLATE_Offline.sh'"
   ]
  },
  {
   "cell_type": "markdown",
   "id": "7ea96096-ff4e-4b65-892c-b4ac1ae2bf75",
   "metadata": {},
   "source": [
    "# Read in crosswalk between offline PPE and coupled PPE"
   ]
  },
  {
   "cell_type": "code",
   "execution_count": 3,
   "id": "b7dd179a-ce81-4077-b87d-a5c793dec9cd",
   "metadata": {},
   "outputs": [],
   "source": [
    "crosswalk = pd.read_csv('CLM5PPE_coupledPPE_crosswalk.csv')"
   ]
  },
  {
   "cell_type": "code",
   "execution_count": 4,
   "id": "2a02a7e0-558d-4cff-b045-32816fb8312e",
   "metadata": {},
   "outputs": [],
   "source": [
    "if not ((np.size(crosswalk.key_coupledPPE)) == (np.size(np.unique(crosswalk.key_coupledPPE)))):\n",
    "    print(\"Repeated coupled PPE key!\")\n",
    "if not ((np.size(crosswalk.key_CLM5PPE)) == (np.size(np.unique(crosswalk.key_CLM5PPE)))):\n",
    "    print(\"Repeated CLM5PPE key!\")"
   ]
  },
  {
   "cell_type": "code",
   "execution_count": 5,
   "id": "46b4e7bd-30fa-42ce-8db3-740559c085c5",
   "metadata": {},
   "outputs": [],
   "source": [
    "# This crosswalk should be in a csv\n",
    "\n",
    "only_default = False\n",
    "offline = True\n",
    "\n",
    "keys_CLM5PPE = crosswalk.key_CLM5PPE\n",
    "keys_coupledPPE = crosswalk.key_coupledPPE\n",
    "keys_offlinePPE = crosswalk.key_landonlyPPE\n",
    "\n",
    "if only_default:\n",
    "    keys_CLM5PPE=[keys_CLM5PPE.values[0]]\n",
    "    if offline:\n",
    "        keys_offlinePPE=[keys_offlinePPE.values[0]]\n",
    "    else:\n",
    "        keys_coupledPPE=[keys_coupledPPE.values[0]]"
   ]
  },
  {
   "cell_type": "code",
   "execution_count": 6,
   "id": "7cf2bc53-c796-4ec4-90b6-e2145747dd5d",
   "metadata": {},
   "outputs": [],
   "source": [
    "datetag = datetime.datetime.now().strftime(\"%d%b%Y\")\n",
    "add_datetag_suffix=True"
   ]
  },
  {
   "cell_type": "markdown",
   "id": "1a962cba-131c-4e9f-9f33-2bf619e24ad1",
   "metadata": {},
   "source": [
    "# Generate a bunch of run scripts"
   ]
  },
  {
   "cell_type": "code",
   "execution_count": 8,
   "id": "484df00c-c5b1-4227-bb41-63c57dd9797e",
   "metadata": {},
   "outputs": [
    {
     "data": {
      "text/plain": [
       "'OFFL0012'"
      ]
     },
     "execution_count": 8,
     "metadata": {},
     "output_type": "execute_result"
    }
   ],
   "source": [
    "key_coupledPPE"
   ]
  },
  {
   "cell_type": "code",
   "execution_count": 7,
   "id": "04125e61-5211-4f4c-a7e3-c2f037af5f4a",
   "metadata": {},
   "outputs": [],
   "source": [
    "for i, key_CLM5PPE in enumerate(keys_CLM5PPE):\n",
    "    if offline:\n",
    "        key_coupledPPE=keys_offlinePPE[i]\n",
    "    else:\n",
    "        key_coupledPPE=keys_coupledPPE[i]\n",
    "    \n",
    "    fileout=runscript_path+'run_script_'+key_coupledPPE+'_PI'\n",
    "    my_casename=key_coupledPPE+'_PI_v02'\n",
    "    if add_datetag_suffix:\n",
    "        fileout=fileout+'_'+datetag+'.sh'\n",
    "    else:\n",
    "        fileout=fileout+'.sh'\n",
    "    \n",
    "    this_paramfile= '\"'+paramfile_path+key_CLM5PPE+'.nc\"'\n",
    "    \n",
    "    this_namelist= '\"'+namelistmod_path+key_CLM5PPE+'.txt\"'\n",
    "    \n",
    "    f = open(filein,'r')\n",
    "    filedata = f.read()\n",
    "    f.close()\n",
    "\n",
    "    newdata = filedata.replace(\"TEMPLATE_CASENAME\",my_casename)\n",
    "    newdata = newdata.replace(\"TEMPLATE_SOURCECODE\",my_sourcecode)\n",
    "    newdata = newdata.replace(\"TEMPLATE_CASEDIR\",my_casedir)\n",
    "    newdata = newdata.replace(\"TEMPLATE_ARCHDIR\",my_archivedir)\n",
    "    newdata = newdata.replace(\"TEMPLATE_RUNDIR\",my_rundir)\n",
    "    newdata = newdata.replace(\"TEMPLATE_PARAMFILE\",this_paramfile)\n",
    "    newdata = newdata.replace(\"TEMPLATE_NAMELIST\",this_namelist)\n",
    "    newdata = newdata.replace(\"TEMPLATE_FILENAME\",fileout)\n",
    "\n",
    "    f = open(fileout,'w')\n",
    "    f.write(newdata)\n",
    "    f.close()"
   ]
  },
  {
   "cell_type": "markdown",
   "id": "b94b9eda-a313-4f8b-a6c0-b46701008fed",
   "metadata": {},
   "source": [
    "***NOTE!*** After running this it will be necessary to do the following in terminal so that you can execute these scripts\n",
    "> chmod +x FILENAME.sh\n",
    "\n",
    "After that, you can run them by doing\n",
    "> ./FILENAME.sh\n",
    "\n",
    "But stick around to make sure it all works (e.g. that it builds, etc.)"
   ]
  },
  {
   "cell_type": "code",
   "execution_count": null,
   "id": "3eb15c47-020b-460f-9e52-a264695844dc",
   "metadata": {},
   "outputs": [],
   "source": []
  }
 ],
 "metadata": {
  "kernelspec": {
   "display_name": "Pangeo (2019.09.12 - py3.7)",
   "language": "python",
   "name": "pangeo-2019.09.12"
  },
  "language_info": {
   "codemirror_mode": {
    "name": "ipython",
    "version": 3
   },
   "file_extension": ".py",
   "mimetype": "text/x-python",
   "name": "python",
   "nbconvert_exporter": "python",
   "pygments_lexer": "ipython3",
   "version": "3.7.3"
  }
 },
 "nbformat": 4,
 "nbformat_minor": 5
}
