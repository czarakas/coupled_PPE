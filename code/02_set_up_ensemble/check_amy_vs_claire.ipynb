{
 "cells": [
  {
   "cell_type": "code",
   "execution_count": 10,
   "id": "4756fd50-0b95-4102-80be-6eabf3fb3b82",
   "metadata": {},
   "outputs": [],
   "source": [
    "import xarray as xr\n",
    "import numpy as np\n",
    "import matplotlib.pyplot as plt"
   ]
  },
  {
   "cell_type": "code",
   "execution_count": 2,
   "id": "2c221c93-3055-4872-ac09-dc6aef618631",
   "metadata": {},
   "outputs": [],
   "source": [
    "ds_cz = xr.open_dataset('/glade/scratch/czarakas/archive/fullcoupled0005/atm/hist/fullcoupled0005.cam.h2.0001-01-01-00000.nc')\n",
    "ds_al = xr.open_dataset('/glade/scratch/amyliu/archive/COUP0000_test/atm/hist/COUP0000_test.cam.h2.0001-01-01-00000.nc')"
   ]
  },
  {
   "cell_type": "code",
   "execution_count": null,
   "id": "5cb6a6ca-e808-4158-a08f-87db8a508e62",
   "metadata": {},
   "outputs": [],
   "source": [
    "ds_cz = xr.open_dataset('/glade/scratch/czarakas/archive/fullcoupled0005/atm/hist/fullcoupled0005.cam.h2.0001-01-01-00000.nc')\n",
    "ds_al = xr.open_dataset('/glade/scratch/amyliu/archive/COUP0000_test/atm/hist/COUP0000_test.cam.h2.0001-01-01-00000.nc')"
   ]
  },
  {
   "cell_type": "code",
   "execution_count": 20,
   "id": "a12e1d39-ce97-43d4-8021-06355fa8a9d1",
   "metadata": {},
   "outputs": [],
   "source": [
    "variables=[]\n",
    "for var in ds_al.variables:\n",
    "    variables.append(var)"
   ]
  },
  {
   "cell_type": "code",
   "execution_count": 16,
   "id": "e50da096-708d-426e-9ba6-5a1f94b7fcbc",
   "metadata": {},
   "outputs": [],
   "source": [
    "var='TSMN'"
   ]
  },
  {
   "cell_type": "code",
   "execution_count": 23,
   "id": "39a96001-bfdc-47fa-bfd9-c1be28f9a44b",
   "metadata": {},
   "outputs": [
    {
     "data": {
      "text/plain": [
       "['lat',\n",
       " 'lon',\n",
       " 'gw',\n",
       " 'lev',\n",
       " 'hyam',\n",
       " 'hybm',\n",
       " 'P0',\n",
       " 'ilev',\n",
       " 'hyai',\n",
       " 'hybi',\n",
       " 'time',\n",
       " 'date',\n",
       " 'datesec',\n",
       " 'time_bnds',\n",
       " 'date_written',\n",
       " 'time_written',\n",
       " 'ndbase',\n",
       " 'nsbase',\n",
       " 'nbdate',\n",
       " 'nbsec',\n",
       " 'mdt',\n",
       " 'ndcur',\n",
       " 'nscur',\n",
       " 'co2vmr',\n",
       " 'ch4vmr',\n",
       " 'n2ovmr',\n",
       " 'f11vmr',\n",
       " 'f12vmr',\n",
       " 'sol_tsi',\n",
       " 'nsteph',\n",
       " 'PRECT',\n",
       " 'TSMN',\n",
       " 'TSMX']"
      ]
     },
     "execution_count": 23,
     "metadata": {},
     "output_type": "execute_result"
    }
   ],
   "source": [
    "variables"
   ]
  },
  {
   "cell_type": "code",
   "execution_count": 26,
   "id": "ad38a041-63cd-4e6d-aa6a-34fe14932864",
   "metadata": {},
   "outputs": [
    {
     "name": "stdout",
     "output_type": "stream",
     "text": [
      "-----lat\n",
      "0.0\n",
      "0.0\n",
      "-----lon\n",
      "0.0\n",
      "0.0\n",
      "-----gw\n",
      "0.0\n",
      "0.0\n",
      "-----lev\n",
      "0.0\n",
      "0.0\n",
      "-----hyam\n",
      "0.0\n",
      "0.0\n",
      "-----hybm\n",
      "0.0\n",
      "0.0\n",
      "-----P0\n",
      "0.0\n",
      "0.0\n",
      "-----ilev\n",
      "0.0\n",
      "0.0\n",
      "-----hyai\n",
      "0.0\n",
      "0.0\n",
      "-----hybi\n",
      "0.0\n",
      "0.0\n",
      "-----time\n",
      "0 nanoseconds\n",
      "0 nanoseconds\n",
      "-----date\n",
      "0\n",
      "0\n",
      "-----datesec\n",
      "0\n",
      "0\n",
      "skipping time_bnds\n",
      "skipping date_written\n",
      "skipping time_written\n",
      "-----ndbase\n",
      "0\n",
      "0\n",
      "-----nsbase\n",
      "0\n",
      "0\n",
      "-----nbdate\n",
      "0\n",
      "0\n",
      "-----nbsec\n",
      "0\n",
      "0\n",
      "-----mdt\n",
      "0\n",
      "0\n",
      "-----ndcur\n",
      "0\n",
      "0\n",
      "-----nscur\n",
      "0\n",
      "0\n",
      "-----co2vmr\n",
      "0.0\n",
      "0.0\n",
      "-----ch4vmr\n",
      "0.0\n",
      "0.0\n",
      "-----n2ovmr\n",
      "0.0\n",
      "0.0\n",
      "-----f11vmr\n",
      "0.0\n",
      "0.0\n",
      "-----f12vmr\n",
      "0.0\n",
      "0.0\n",
      "-----sol_tsi\n",
      "0.0\n",
      "0.0\n",
      "-----nsteph\n",
      "0\n",
      "0\n",
      "-----PRECT\n",
      "0.0\n",
      "0.0\n",
      "-----TSMN\n",
      "0.0\n",
      "0.0\n",
      "-----TSMX\n",
      "0.0\n",
      "0.0\n"
     ]
    }
   ],
   "source": [
    "for var in variables:\n",
    "    if var in ['time_bnds','date_written','time_written']:\n",
    "        print('skipping '+var)\n",
    "    else:\n",
    "        diff = ds_cz[var]-ds_al[var]\n",
    "        print('-----'+var)\n",
    "        print(np.nanmax(diff))\n",
    "        print(np.nanmin(diff))"
   ]
  },
  {
   "cell_type": "code",
   "execution_count": 17,
   "id": "4aa7eb73-8207-4ed8-8e90-7f5c264a9058",
   "metadata": {
    "tags": []
   },
   "outputs": [],
   "source": []
  },
  {
   "cell_type": "code",
   "execution_count": 15,
   "id": "0035e98b-c2c3-4d11-a923-b0168e597f2b",
   "metadata": {},
   "outputs": [
    {
     "name": "stdout",
     "output_type": "stream",
     "text": [
      "0.0\n",
      "0.0\n"
     ]
    }
   ],
   "source": []
  },
  {
   "cell_type": "code",
   "execution_count": 14,
   "id": "f7264591-4938-4e3a-85fe-4161ce66e975",
   "metadata": {},
   "outputs": [
    {
     "data": {
      "text/plain": [
       "<matplotlib.colorbar.Colorbar at 0x2b9c0892dc18>"
      ]
     },
     "execution_count": 14,
     "metadata": {},
     "output_type": "execute_result"
    },
    {
     "data": {
      "image/png": "[encoded data removed]",
      "text/plain": [
       "<Figure size 432x288 with 2 Axes>"
      ]
     },
     "metadata": {
      "needs_background": "light"
     },
     "output_type": "display_data"
    }
   ],
   "source": [
    "plt.pcolormesh(diff.mean(dim='time'))\n",
    "plt.colorbar()"
   ]
  },
  {
   "cell_type": "code",
   "execution_count": null,
   "id": "c9197643-30ff-4c42-958a-a304c04e11fd",
   "metadata": {},
   "outputs": [],
   "source": []
  }
 ],
 "metadata": {
  "kernelspec": {
   "display_name": "Pangeo (2019.09.12 - py3.7)",
   "language": "python",
   "name": "pangeo-2019.09.12"
  },
  "language_info": {
   "codemirror_mode": {
    "name": "ipython",
    "version": 3
   },
   "file_extension": ".py",
   "mimetype": "text/x-python",
   "name": "python",
   "nbconvert_exporter": "python",
   "pygments_lexer": "ipython3",
   "version": "3.7.3"
  }
 },
 "nbformat": 4,
 "nbformat_minor": 5
}
