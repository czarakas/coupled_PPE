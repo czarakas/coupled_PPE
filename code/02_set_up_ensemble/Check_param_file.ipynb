{
 "cells": [
  {
   "cell_type": "code",
   "execution_count": 1,
   "id": "e180ccc7-da8f-4977-8948-ed836865a16c",
   "metadata": {},
   "outputs": [],
   "source": [
    "import xarray as xr\n",
    "import pandas as pd\n",
    "import matplotlib.pyplot as plt\n",
    "import numpy as np"
   ]
  },
  {
   "cell_type": "code",
   "execution_count": 2,
   "id": "76be75aa-fb07-4c68-a067-5b614ce67145",
   "metadata": {
    "tags": []
   },
   "outputs": [],
   "source": [
    "paramfile_default = xr.open_dataset('/glade/p/cgd/tss/people/oleson/modify_param/ctsm51_params.c210217_kwo.c210222.nc')"
   ]
  },
  {
   "cell_type": "code",
   "execution_count": 196,
   "id": "89f36c59-80a9-41c8-acf4-aa218e798532",
   "metadata": {},
   "outputs": [],
   "source": [
    "paramfile_to_check=xr.open_dataset(\"/glade/scratch/djk2120/PPEn11/paramfiles/OAAT0172.nc\")"
   ]
  },
  {
   "cell_type": "code",
   "execution_count": 197,
   "id": "006d661c-98aa-45f9-a8a2-fd080181f70a",
   "metadata": {},
   "outputs": [
    {
     "name": "stdout",
     "output_type": "stream",
     "text": [
      "nstem[0]\n",
      "nstem[1]\n",
      "nstem[2]\n",
      "nstem[3]\n",
      "nstem[4]\n",
      "nstem[5]\n",
      "nstem[6]\n",
      "nstem[7]\n",
      "nstem[8]\n",
      "nstem[9]\n",
      "nstem[10]\n",
      "nstem[11]\n",
      "nstem[12]\n",
      "nstem[13]\n",
      "nstem[14]\n",
      "nstem[15]\n",
      "nstem[16]\n",
      "nstem[17]\n",
      "nstem[18]\n",
      "nstem[19]\n",
      "nstem[20]\n",
      "nstem[21]\n",
      "nstem[22]\n",
      "nstem[23]\n",
      "nstem[24]\n",
      "nstem[25]\n",
      "nstem[26]\n",
      "nstem[27]\n",
      "nstem[28]\n",
      "nstem[29]\n",
      "nstem[30]\n",
      "nstem[31]\n",
      "nstem[32]\n",
      "nstem[33]\n",
      "nstem[34]\n",
      "nstem[35]\n",
      "nstem[36]\n",
      "nstem[37]\n",
      "nstem[38]\n",
      "nstem[39]\n",
      "nstem[40]\n",
      "nstem[41]\n",
      "nstem[42]\n",
      "nstem[43]\n",
      "nstem[44]\n",
      "nstem[45]\n",
      "nstem[46]\n",
      "nstem[47]\n",
      "nstem[48]\n",
      "nstem[49]\n",
      "nstem[50]\n",
      "nstem[51]\n",
      "nstem[52]\n",
      "nstem[53]\n",
      "nstem[54]\n",
      "nstem[55]\n",
      "nstem[56]\n",
      "nstem[57]\n",
      "nstem[58]\n",
      "nstem[59]\n",
      "nstem[60]\n",
      "nstem[61]\n",
      "nstem[62]\n",
      "nstem[63]\n",
      "nstem[64]\n",
      "nstem[65]\n",
      "nstem[66]\n",
      "nstem[67]\n",
      "nstem[68]\n",
      "nstem[69]\n",
      "nstem[70]\n",
      "nstem[71]\n",
      "nstem[72]\n",
      "nstem[73]\n",
      "nstem[74]\n",
      "nstem[75]\n",
      "nstem[76]\n",
      "nstem[77]\n",
      "nstem[78]\n"
     ]
    }
   ],
   "source": [
    "for var in paramfile_default.variables:\n",
    "    default = paramfile_default[var].values\n",
    "    check = paramfile_to_check[var].values\n",
    "    if np.size(default)==np.size(check):\n",
    "        if np.size(default)>1:\n",
    "            for i, ind in enumerate(default):\n",
    "                vals_equal = (str(default)+'')==(str(check)+'')\n",
    "                if not (vals_equal):\n",
    "                    print(var+'['+str(i)+']')\n",
    "        else:\n",
    "            if not (default==check):\n",
    "                print(var)\n",
    "    else:\n",
    "        print('inconsistent dimensions')"
   ]
  },
  {
   "cell_type": "code",
   "execution_count": 198,
   "id": "e5673ec7-c479-4dd0-a763-1ee0676dea2a",
   "metadata": {},
   "outputs": [
    {
     "name": "stdout",
     "output_type": "stream",
     "text": [
      "<xarray.DataArray 'nstem' (pft: 79)>\n",
      "array([0.0e+00, 8.0e-02, 8.0e-02, 8.0e-02, 6.0e-02, 3.5e-02, 6.0e-02, 3.5e-02,\n",
      "       8.0e-02, 5.0e-01, 5.0e-01, 5.0e-01, 1.0e+02, 1.0e+02, 1.0e+02, 1.0e+02,\n",
      "       1.0e+02, 1.0e+02, 1.0e+02, 1.0e+02, 1.0e+02, 1.0e+02, 1.0e+02, 1.0e+02,\n",
      "       1.0e+02, 1.0e+02, 1.0e+02, 1.0e+02, 1.0e+02, 1.0e+02, 1.0e+02, 1.0e+02,\n",
      "       1.0e+02, 1.0e+02, 1.0e+02, 1.0e+02, 1.0e+02, 1.0e+02, 1.0e+02, 1.0e+02,\n",
      "       1.0e+02, 1.0e+02, 1.0e+02, 1.0e+02, 1.0e+02, 1.0e+02, 1.0e+02, 1.0e+02,\n",
      "       1.0e+02, 1.0e+02, 1.0e+02, 1.0e+02, 1.0e+02, 1.0e+02, 1.0e+02, 1.0e+02,\n",
      "       1.0e+02, 1.0e+02, 1.0e+02, 1.0e+02, 1.0e+02, 1.0e+02, 1.0e+02, 1.0e+02,\n",
      "       1.0e+02, 1.0e+02, 1.0e+02, 1.0e+02, 1.0e+02, 1.0e+02, 1.0e+02, 1.0e+02,\n",
      "       1.0e+02, 1.0e+02, 1.0e+02, 1.0e+02, 1.0e+02, 1.0e+02, 1.0e+02])\n",
      "Coordinates:\n",
      "    pftname  (pft) |S40 b'not_vegetated                           ' ... b'irrigated_tropical_soybean              '\n",
      "Dimensions without coordinates: pft\n",
      "Attributes:\n",
      "    units:      number m-2\n",
      "    long_name:  stem number\n"
     ]
    },
    {
     "data": {
      "text/plain": [
       "<matplotlib.legend.Legend at 0x2b3f517b1208>"
      ]
     },
     "execution_count": 198,
     "metadata": {},
     "output_type": "execute_result"
    },
    {
     "data": {
      "image/png": "[encoded data removed]",
      "text/plain": [
       "<Figure size 432x288 with 1 Axes>"
      ]
     },
     "metadata": {
      "needs_background": "light"
     },
     "output_type": "display_data"
    }
   ],
   "source": [
    "var = 'nstem'\n",
    "plt.plot(paramfile_default[var].values,'.-k', label='Default params')\n",
    "plt.plot(paramfile_to_check[var].values,'.-r', label='Modified params')\n",
    "print(paramfile_default[var])\n",
    "plt.legend()"
   ]
  },
  {
   "cell_type": "code",
   "execution_count": 187,
   "id": "cbd116c4-5b34-4155-80cf-88ab74b7733c",
   "metadata": {},
   "outputs": [
    {
     "data": {
      "text/plain": [
       "[]"
      ]
     },
     "execution_count": 187,
     "metadata": {},
     "output_type": "execute_result"
    }
   ],
   "source": [
    "default_vars = []\n",
    "check_vars = []\n",
    "for var in paramfile_default.variables:\n",
    "    default_vars.append(var)\n",
    "for var in paramfile_to_check.variables:\n",
    "    check_vars.append(var)\n",
    "    \n",
    "list(set(default_vars) - set(check_vars))"
   ]
  },
  {
   "cell_type": "code",
   "execution_count": 195,
   "id": "ecc1408d-6a4f-4d9a-9af6-11363434d6fd",
   "metadata": {},
   "outputs": [
    {
     "name": "stdout",
     "output_type": "stream",
     "text": [
      "[0.03 0.03 0.03 0.03 0.03 0.03 0.03 0.03 0.03 0.03 0.03 0.03 0.03 0.03\n",
      " 0.03 0.03 0.03 0.03 0.03 0.03 0.03 0.03 0.03 0.03 0.03 0.03 0.03 0.03\n",
      " 0.03 0.03 0.03 0.03 0.03 0.03 0.03 0.03 0.03 0.03 0.03 0.03 0.03 0.03\n",
      " 0.03 0.03 0.03 0.03 0.03 0.03 0.03 0.03 0.03 0.03 0.03 0.03 0.03 0.03\n",
      " 0.03 0.03 0.03 0.03 0.03 0.03 0.03 0.03 0.03 0.03 0.03 0.03 0.03 0.03\n",
      " 0.03 0.03 0.03 0.03 0.03 0.03 0.03 0.03 0.03]\n"
     ]
    }
   ],
   "source": [
    "print(paramfile_to_check[var].values)"
   ]
  },
  {
   "cell_type": "code",
   "execution_count": 199,
   "id": "a84ac279-7e40-435f-b0a4-699211726b2e",
   "metadata": {},
   "outputs": [
    {
     "name": "stdout",
     "output_type": "stream",
     "text": [
      "[0.5 0.5 0.5 0.5 0.5 0.5 0.5 0.5 0.5 0.5 0.5 0.5 0.5 0.5 0.5 0.5 0.5 0.5\n",
      " 0.5 0.5 0.5 0.5 0.5 0.5 0.5 0.5 0.5 0.5 0.5 0.5 0.5 0.5 0.5 0.5 0.5 0.5\n",
      " 0.5 0.5 0.5 0.5 0.5 0.5 0.5 0.5 0.5 0.5 0.5 0.5 0.5 0.5 0.5 0.5 0.5 0.5\n",
      " 0.5 0.5 0.5 0.5 0.5 0.5 0.5 0.5 0.5 0.5 0.5 0.5 0.5 0.5 0.5 0.5 0.5 0.5\n",
      " 0.5 0.5 0.5 0.5 0.5 0.5 0.5]\n"
     ]
    }
   ],
   "source": [
    "print(paramfile_to_check[var].values)"
   ]
  },
  {
   "cell_type": "code",
   "execution_count": null,
   "id": "ee2a2e76-16d9-4ea3-903d-b6864a4bba8e",
   "metadata": {},
   "outputs": [],
   "source": []
  }
 ],
 "metadata": {
  "kernelspec": {
   "display_name": "Pangeo (2019.09.12 - py3.7)",
   "language": "python",
   "name": "pangeo-2019.09.12"
  },
  "language_info": {
   "codemirror_mode": {
    "name": "ipython",
    "version": 3
   },
   "file_extension": ".py",
   "mimetype": "text/x-python",
   "name": "python",
   "nbconvert_exporter": "python",
   "pygments_lexer": "ipython3",
   "version": "3.7.3"
  }
 },
 "nbformat": 4,
 "nbformat_minor": 5
}
